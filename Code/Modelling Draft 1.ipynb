{
 "cells": [
  {
   "cell_type": "markdown",
   "metadata": {},
   "source": [
    "## Import Statements ##"
   ]
  },
  {
   "cell_type": "code",
   "execution_count": 84,
   "metadata": {},
   "outputs": [],
   "source": [
    "import pandas as pd\n",
    "import numpy as np\n",
    "import datetime\n",
    "import seaborn as sns                       #visualisation\n",
    "import matplotlib.pyplot as plt             #visualisation"
   ]
  },
  {
   "cell_type": "markdown",
   "metadata": {},
   "source": [
    "## Making a List of all the files from the directory ##"
   ]
  },
  {
   "cell_type": "code",
   "execution_count": 85,
   "metadata": {},
   "outputs": [
    {
     "name": "stdout",
     "output_type": "stream",
     "text": [
      "202208-divvy-tripdata.csv\n",
      "202205-divvy-tripdata.csv\n",
      "202109-divvy-tripdata.csv\n",
      "202104-divvy-tripdata.csv\n",
      ".DS_Store\n",
      "202107-divvy-tripdata.csv\n",
      "202206-divvy-tripdata.csv\n",
      "202210-divvy-tripdata.csv\n",
      "202111-divvy-tripdata.csv\n",
      "202101-divvy-tripdata.csv\n",
      "202102-divvy-tripdata.csv\n",
      "202112-divvy-tripdata.csv\n",
      "202203-divvy-tripdata.csv\n",
      "202103-divvy-tripdata.csv\n",
      "202202-divvy-tripdata.csv\n",
      "202201-divvy-tripdata.csv\n",
      "202110-divvy-tripdata.csv\n",
      "202106-divvy-tripdata.csv\n",
      "202207-divvy-tripdata.csv\n",
      "202209-divvy-tripdata.csv\n",
      "202204-divvy-tripdata.csv\n",
      "202108-divvy-tripdata.csv\n",
      "202105-divvy-tripdata.csv\n"
     ]
    }
   ],
   "source": [
    "file_path = \"/Users/vedantigulalkari/Documents/Fall Module 2/WDA/WDA Final Project/Monthly Datasets\"\n",
    "file_list = os.listdir(file_path)\n",
    "for f in file_list:\n",
    "    print(f)"
   ]
  },
  {
   "cell_type": "code",
   "execution_count": 86,
   "metadata": {},
   "outputs": [
    {
     "data": {
      "text/plain": [
       "22"
      ]
     },
     "execution_count": 86,
     "metadata": {},
     "output_type": "execute_result"
    }
   ],
   "source": [
    "# Remove Unnecessary files\n",
    "if (\".DS_Store\" in file_list):\n",
    "    file_list.remove(\".DS_Store\")\n",
    "len(file_list)"
   ]
  },
  {
   "cell_type": "markdown",
   "metadata": {},
   "source": [
    "## Combining all data files to get a combined dataset ##"
   ]
  },
  {
   "cell_type": "code",
   "execution_count": 5,
   "metadata": {},
   "outputs": [
    {
     "data": {
      "text/html": [
       "<div>\n",
       "<style scoped>\n",
       "    .dataframe tbody tr th:only-of-type {\n",
       "        vertical-align: middle;\n",
       "    }\n",
       "\n",
       "    .dataframe tbody tr th {\n",
       "        vertical-align: top;\n",
       "    }\n",
       "\n",
       "    .dataframe thead th {\n",
       "        text-align: right;\n",
       "    }\n",
       "</style>\n",
       "<table border=\"1\" class=\"dataframe\">\n",
       "  <thead>\n",
       "    <tr style=\"text-align: right;\">\n",
       "      <th></th>\n",
       "      <th>ride_id</th>\n",
       "      <th>rideable_type</th>\n",
       "      <th>started_at</th>\n",
       "      <th>ended_at</th>\n",
       "      <th>start_station_name</th>\n",
       "      <th>start_station_id</th>\n",
       "      <th>end_station_name</th>\n",
       "      <th>end_station_id</th>\n",
       "      <th>start_lat</th>\n",
       "      <th>start_lng</th>\n",
       "      <th>end_lat</th>\n",
       "      <th>end_lng</th>\n",
       "      <th>member_casual</th>\n",
       "    </tr>\n",
       "  </thead>\n",
       "  <tbody>\n",
       "    <tr>\n",
       "      <th>0</th>\n",
       "      <td>550CF7EFEAE0C618</td>\n",
       "      <td>electric_bike</td>\n",
       "      <td>2022-08-07 21:34:15</td>\n",
       "      <td>2022-08-07 21:41:46</td>\n",
       "      <td>NaN</td>\n",
       "      <td>NaN</td>\n",
       "      <td>NaN</td>\n",
       "      <td>NaN</td>\n",
       "      <td>41.930000</td>\n",
       "      <td>-87.690000</td>\n",
       "      <td>41.94000</td>\n",
       "      <td>-87.720000</td>\n",
       "      <td>casual</td>\n",
       "    </tr>\n",
       "    <tr>\n",
       "      <th>1</th>\n",
       "      <td>DAD198F405F9C5F5</td>\n",
       "      <td>electric_bike</td>\n",
       "      <td>2022-08-08 14:39:21</td>\n",
       "      <td>2022-08-08 14:53:23</td>\n",
       "      <td>NaN</td>\n",
       "      <td>NaN</td>\n",
       "      <td>NaN</td>\n",
       "      <td>NaN</td>\n",
       "      <td>41.890000</td>\n",
       "      <td>-87.640000</td>\n",
       "      <td>41.92000</td>\n",
       "      <td>-87.640000</td>\n",
       "      <td>casual</td>\n",
       "    </tr>\n",
       "    <tr>\n",
       "      <th>2</th>\n",
       "      <td>E6F2BC47B65CB7FD</td>\n",
       "      <td>electric_bike</td>\n",
       "      <td>2022-08-08 15:29:50</td>\n",
       "      <td>2022-08-08 15:40:34</td>\n",
       "      <td>NaN</td>\n",
       "      <td>NaN</td>\n",
       "      <td>NaN</td>\n",
       "      <td>NaN</td>\n",
       "      <td>41.970000</td>\n",
       "      <td>-87.690000</td>\n",
       "      <td>41.97000</td>\n",
       "      <td>-87.660000</td>\n",
       "      <td>casual</td>\n",
       "    </tr>\n",
       "    <tr>\n",
       "      <th>3</th>\n",
       "      <td>F597830181C2E13C</td>\n",
       "      <td>electric_bike</td>\n",
       "      <td>2022-08-08 02:43:50</td>\n",
       "      <td>2022-08-08 02:58:53</td>\n",
       "      <td>NaN</td>\n",
       "      <td>NaN</td>\n",
       "      <td>NaN</td>\n",
       "      <td>NaN</td>\n",
       "      <td>41.940000</td>\n",
       "      <td>-87.650000</td>\n",
       "      <td>41.97000</td>\n",
       "      <td>-87.690000</td>\n",
       "      <td>casual</td>\n",
       "    </tr>\n",
       "    <tr>\n",
       "      <th>4</th>\n",
       "      <td>0CE689BB4E313E8D</td>\n",
       "      <td>electric_bike</td>\n",
       "      <td>2022-08-07 20:24:06</td>\n",
       "      <td>2022-08-07 20:29:58</td>\n",
       "      <td>NaN</td>\n",
       "      <td>NaN</td>\n",
       "      <td>NaN</td>\n",
       "      <td>NaN</td>\n",
       "      <td>41.850000</td>\n",
       "      <td>-87.650000</td>\n",
       "      <td>41.84000</td>\n",
       "      <td>-87.660000</td>\n",
       "      <td>casual</td>\n",
       "    </tr>\n",
       "    <tr>\n",
       "      <th>...</th>\n",
       "      <td>...</td>\n",
       "      <td>...</td>\n",
       "      <td>...</td>\n",
       "      <td>...</td>\n",
       "      <td>...</td>\n",
       "      <td>...</td>\n",
       "      <td>...</td>\n",
       "      <td>...</td>\n",
       "      <td>...</td>\n",
       "      <td>...</td>\n",
       "      <td>...</td>\n",
       "      <td>...</td>\n",
       "      <td>...</td>\n",
       "    </tr>\n",
       "    <tr>\n",
       "      <th>10743234</th>\n",
       "      <td>EF56D7D1D612AC11</td>\n",
       "      <td>electric_bike</td>\n",
       "      <td>2021-05-20 16:32:14</td>\n",
       "      <td>2021-05-20 16:35:39</td>\n",
       "      <td>Blackstone Ave &amp; Hyde Park Blvd</td>\n",
       "      <td>13398</td>\n",
       "      <td>NaN</td>\n",
       "      <td>NaN</td>\n",
       "      <td>41.802581</td>\n",
       "      <td>-87.590230</td>\n",
       "      <td>41.80000</td>\n",
       "      <td>-87.600000</td>\n",
       "      <td>member</td>\n",
       "    </tr>\n",
       "    <tr>\n",
       "      <th>10743235</th>\n",
       "      <td>745191CB9F21DE3C</td>\n",
       "      <td>classic_bike</td>\n",
       "      <td>2021-05-29 16:40:37</td>\n",
       "      <td>2021-05-29 17:22:37</td>\n",
       "      <td>Sheridan Rd &amp; Montrose Ave</td>\n",
       "      <td>TA1307000107</td>\n",
       "      <td>Michigan Ave &amp; Oak St</td>\n",
       "      <td>13042</td>\n",
       "      <td>41.961670</td>\n",
       "      <td>-87.654640</td>\n",
       "      <td>41.90096</td>\n",
       "      <td>-87.623777</td>\n",
       "      <td>casual</td>\n",
       "    </tr>\n",
       "    <tr>\n",
       "      <th>10743236</th>\n",
       "      <td>428575BAA5356BFF</td>\n",
       "      <td>electric_bike</td>\n",
       "      <td>2021-05-31 14:24:54</td>\n",
       "      <td>2021-05-31 14:31:38</td>\n",
       "      <td>Sheridan Rd &amp; Montrose Ave</td>\n",
       "      <td>TA1307000107</td>\n",
       "      <td>NaN</td>\n",
       "      <td>NaN</td>\n",
       "      <td>41.961525</td>\n",
       "      <td>-87.654651</td>\n",
       "      <td>41.95000</td>\n",
       "      <td>-87.650000</td>\n",
       "      <td>member</td>\n",
       "    </tr>\n",
       "    <tr>\n",
       "      <th>10743237</th>\n",
       "      <td>FC8A4A7AB7249662</td>\n",
       "      <td>electric_bike</td>\n",
       "      <td>2021-05-25 16:01:33</td>\n",
       "      <td>2021-05-25 16:07:37</td>\n",
       "      <td>Sheridan Rd &amp; Montrose Ave</td>\n",
       "      <td>TA1307000107</td>\n",
       "      <td>NaN</td>\n",
       "      <td>NaN</td>\n",
       "      <td>41.961654</td>\n",
       "      <td>-87.654721</td>\n",
       "      <td>41.98000</td>\n",
       "      <td>-87.660000</td>\n",
       "      <td>member</td>\n",
       "    </tr>\n",
       "    <tr>\n",
       "      <th>10743238</th>\n",
       "      <td>E873B8AA3EE84678</td>\n",
       "      <td>docked_bike</td>\n",
       "      <td>2021-05-12 12:22:14</td>\n",
       "      <td>2021-05-12 12:30:27</td>\n",
       "      <td>Sheridan Rd &amp; Montrose Ave</td>\n",
       "      <td>TA1307000107</td>\n",
       "      <td>Clark St &amp; Grace St</td>\n",
       "      <td>TA1307000127</td>\n",
       "      <td>41.961670</td>\n",
       "      <td>-87.654640</td>\n",
       "      <td>41.95078</td>\n",
       "      <td>-87.659172</td>\n",
       "      <td>casual</td>\n",
       "    </tr>\n",
       "  </tbody>\n",
       "</table>\n",
       "<p>10743239 rows × 13 columns</p>\n",
       "</div>"
      ],
      "text/plain": [
       "                   ride_id  rideable_type           started_at  \\\n",
       "0         550CF7EFEAE0C618  electric_bike  2022-08-07 21:34:15   \n",
       "1         DAD198F405F9C5F5  electric_bike  2022-08-08 14:39:21   \n",
       "2         E6F2BC47B65CB7FD  electric_bike  2022-08-08 15:29:50   \n",
       "3         F597830181C2E13C  electric_bike  2022-08-08 02:43:50   \n",
       "4         0CE689BB4E313E8D  electric_bike  2022-08-07 20:24:06   \n",
       "...                    ...            ...                  ...   \n",
       "10743234  EF56D7D1D612AC11  electric_bike  2021-05-20 16:32:14   \n",
       "10743235  745191CB9F21DE3C   classic_bike  2021-05-29 16:40:37   \n",
       "10743236  428575BAA5356BFF  electric_bike  2021-05-31 14:24:54   \n",
       "10743237  FC8A4A7AB7249662  electric_bike  2021-05-25 16:01:33   \n",
       "10743238  E873B8AA3EE84678    docked_bike  2021-05-12 12:22:14   \n",
       "\n",
       "                     ended_at               start_station_name  \\\n",
       "0         2022-08-07 21:41:46                              NaN   \n",
       "1         2022-08-08 14:53:23                              NaN   \n",
       "2         2022-08-08 15:40:34                              NaN   \n",
       "3         2022-08-08 02:58:53                              NaN   \n",
       "4         2022-08-07 20:29:58                              NaN   \n",
       "...                       ...                              ...   \n",
       "10743234  2021-05-20 16:35:39  Blackstone Ave & Hyde Park Blvd   \n",
       "10743235  2021-05-29 17:22:37       Sheridan Rd & Montrose Ave   \n",
       "10743236  2021-05-31 14:31:38       Sheridan Rd & Montrose Ave   \n",
       "10743237  2021-05-25 16:07:37       Sheridan Rd & Montrose Ave   \n",
       "10743238  2021-05-12 12:30:27       Sheridan Rd & Montrose Ave   \n",
       "\n",
       "         start_station_id       end_station_name end_station_id  start_lat  \\\n",
       "0                     NaN                    NaN            NaN  41.930000   \n",
       "1                     NaN                    NaN            NaN  41.890000   \n",
       "2                     NaN                    NaN            NaN  41.970000   \n",
       "3                     NaN                    NaN            NaN  41.940000   \n",
       "4                     NaN                    NaN            NaN  41.850000   \n",
       "...                   ...                    ...            ...        ...   \n",
       "10743234            13398                    NaN            NaN  41.802581   \n",
       "10743235     TA1307000107  Michigan Ave & Oak St          13042  41.961670   \n",
       "10743236     TA1307000107                    NaN            NaN  41.961525   \n",
       "10743237     TA1307000107                    NaN            NaN  41.961654   \n",
       "10743238     TA1307000107    Clark St & Grace St   TA1307000127  41.961670   \n",
       "\n",
       "          start_lng   end_lat    end_lng member_casual  \n",
       "0        -87.690000  41.94000 -87.720000        casual  \n",
       "1        -87.640000  41.92000 -87.640000        casual  \n",
       "2        -87.690000  41.97000 -87.660000        casual  \n",
       "3        -87.650000  41.97000 -87.690000        casual  \n",
       "4        -87.650000  41.84000 -87.660000        casual  \n",
       "...             ...       ...        ...           ...  \n",
       "10743234 -87.590230  41.80000 -87.600000        member  \n",
       "10743235 -87.654640  41.90096 -87.623777        casual  \n",
       "10743236 -87.654651  41.95000 -87.650000        member  \n",
       "10743237 -87.654721  41.98000 -87.660000        member  \n",
       "10743238 -87.654640  41.95078 -87.659172        casual  \n",
       "\n",
       "[10743239 rows x 13 columns]"
      ]
     },
     "execution_count": 5,
     "metadata": {},
     "output_type": "execute_result"
    }
   ],
   "source": [
    "df = pd.concat([pd.read_csv(\"/Users/vedantigulalkari/Documents/Fall Module 2/WDA/WDA Final Project/Monthly Datasets/\"+f) for f in file_list], ignore_index=True)\n",
    "df.shape"
   ]
  },
  {
   "cell_type": "code",
   "execution_count": 7,
   "metadata": {},
   "outputs": [
    {
     "data": {
      "text/plain": [
       "ride_id                object\n",
       "rideable_type          object\n",
       "started_at             object\n",
       "ended_at               object\n",
       "start_station_name     object\n",
       "start_station_id       object\n",
       "end_station_name       object\n",
       "end_station_id         object\n",
       "start_lat             float64\n",
       "start_lng             float64\n",
       "end_lat               float64\n",
       "end_lng               float64\n",
       "member_casual          object\n",
       "dtype: object"
      ]
     },
     "execution_count": 7,
     "metadata": {},
     "output_type": "execute_result"
    }
   ],
   "source": [
    "#checking dtypes\n",
    "df.dtypes"
   ]
  },
  {
   "cell_type": "markdown",
   "metadata": {},
   "source": [
    "## Data Cleaning ##"
   ]
  },
  {
   "cell_type": "code",
   "execution_count": 8,
   "metadata": {},
   "outputs": [
    {
     "data": {
      "text/plain": [
       "ride_id                     0\n",
       "rideable_type               0\n",
       "started_at                  0\n",
       "ended_at                    0\n",
       "start_station_name    1442633\n",
       "start_station_id      1442630\n",
       "end_station_name      1546495\n",
       "end_station_id        1546495\n",
       "start_lat                   0\n",
       "start_lng                   0\n",
       "end_lat                 10271\n",
       "end_lng                 10271\n",
       "member_casual               0\n",
       "dtype: int64"
      ]
     },
     "execution_count": 8,
     "metadata": {},
     "output_type": "execute_result"
    }
   ],
   "source": [
    "#missing values\n",
    "df.isna().sum()"
   ]
  },
  {
   "cell_type": "code",
   "execution_count": 9,
   "metadata": {},
   "outputs": [],
   "source": [
    "#convert datatype datetime format\n",
    "df['started_at'] = pd.to_datetime(df['started_at'])\n",
    "df['ended_at'] = pd.to_datetime(df['ended_at'])"
   ]
  },
  {
   "cell_type": "code",
   "execution_count": 10,
   "metadata": {},
   "outputs": [],
   "source": [
    "# drop as not needed\n",
    "df = df.drop(['ride_id', 'start_station_id', 'end_station_id'], axis = 1)"
   ]
  },
  {
   "cell_type": "code",
   "execution_count": 11,
   "metadata": {},
   "outputs": [],
   "source": [
    "#Calculate ride-length column for future analysis \n",
    "df['Ride_Length'] = abs(((df['ended_at'] - df['started_at']).dt.days) * 24 + ((df['ended_at'] - df['started_at']).dt.seconds)/ 3600)"
   ]
  },
  {
   "cell_type": "code",
   "execution_count": 12,
   "metadata": {},
   "outputs": [],
   "source": [
    "df.describe\n",
    "df_clean = df[df['Ride_Length']>=0.0166667]"
   ]
  },
  {
   "cell_type": "code",
   "execution_count": 13,
   "metadata": {},
   "outputs": [
    {
     "name": "stdout",
     "output_type": "stream",
     "text": [
      "   rideable_type          started_at            ended_at start_station_name  \\\n",
      "0  electric_bike 2022-08-07 21:34:15 2022-08-07 21:41:46                NaN   \n",
      "1  electric_bike 2022-08-08 14:39:21 2022-08-08 14:53:23                NaN   \n",
      "2  electric_bike 2022-08-08 15:29:50 2022-08-08 15:40:34                NaN   \n",
      "3  electric_bike 2022-08-08 02:43:50 2022-08-08 02:58:53                NaN   \n",
      "4  electric_bike 2022-08-07 20:24:06 2022-08-07 20:29:58                NaN   \n",
      "\n",
      "  end_station_name  start_lat  start_lng  end_lat  end_lng member_casual  \\\n",
      "0              NaN      41.93     -87.69    41.94   -87.72        casual   \n",
      "1              NaN      41.89     -87.64    41.92   -87.64        casual   \n",
      "2              NaN      41.97     -87.69    41.97   -87.66        casual   \n",
      "3              NaN      41.94     -87.65    41.97   -87.69        casual   \n",
      "4              NaN      41.85     -87.65    41.84   -87.66        casual   \n",
      "\n",
      "   Ride_Length  \n",
      "0     0.125278  \n",
      "1     0.233889  \n",
      "2     0.178889  \n",
      "3     0.250833  \n",
      "4     0.097778  \n"
     ]
    },
    {
     "name": "stderr",
     "output_type": "stream",
     "text": [
      "/var/folders/0x/36r7dpkn1sjg4vx7v__2hz540000gn/T/ipykernel_69658/1499576522.py:1: SettingWithCopyWarning: \n",
      "A value is trying to be set on a copy of a slice from a DataFrame.\n",
      "Try using .loc[row_indexer,col_indexer] = value instead\n",
      "\n",
      "See the caveats in the documentation: https://pandas.pydata.org/pandas-docs/stable/user_guide/indexing.html#returning-a-view-versus-a-copy\n",
      "  df_clean['Day_of_Week'] = df_clean['started_at'].dt.day_name()\n"
     ]
    }
   ],
   "source": [
    "df_clean['Day_of_Week'] = df_clean['started_at'].dt.day_name()\n",
    "print(df.head())"
   ]
  },
  {
   "cell_type": "code",
   "execution_count": 14,
   "metadata": {},
   "outputs": [
    {
     "name": "stderr",
     "output_type": "stream",
     "text": [
      "/var/folders/0x/36r7dpkn1sjg4vx7v__2hz540000gn/T/ipykernel_69658/4248344489.py:1: FutureWarning: The default value of numeric_only in DataFrameGroupBy.mean is deprecated. In a future version, numeric_only will default to False. Either specify numeric_only or select only columns which should be valid for the function.\n",
      "  df_clean.groupby(['Day_of_Week', 'member_casual']).mean()\n"
     ]
    },
    {
     "data": {
      "text/html": [
       "<div>\n",
       "<style scoped>\n",
       "    .dataframe tbody tr th:only-of-type {\n",
       "        vertical-align: middle;\n",
       "    }\n",
       "\n",
       "    .dataframe tbody tr th {\n",
       "        vertical-align: top;\n",
       "    }\n",
       "\n",
       "    .dataframe thead th {\n",
       "        text-align: right;\n",
       "    }\n",
       "</style>\n",
       "<table border=\"1\" class=\"dataframe\">\n",
       "  <thead>\n",
       "    <tr style=\"text-align: right;\">\n",
       "      <th></th>\n",
       "      <th></th>\n",
       "      <th>start_lat</th>\n",
       "      <th>start_lng</th>\n",
       "      <th>end_lat</th>\n",
       "      <th>end_lng</th>\n",
       "      <th>Ride_Length</th>\n",
       "    </tr>\n",
       "    <tr>\n",
       "      <th>Day_of_Week</th>\n",
       "      <th>member_casual</th>\n",
       "      <th></th>\n",
       "      <th></th>\n",
       "      <th></th>\n",
       "      <th></th>\n",
       "      <th></th>\n",
       "    </tr>\n",
       "  </thead>\n",
       "  <tbody>\n",
       "    <tr>\n",
       "      <th rowspan=\"2\" valign=\"top\">Friday</th>\n",
       "      <th>casual</th>\n",
       "      <td>41.902855</td>\n",
       "      <td>-87.647533</td>\n",
       "      <td>41.903062</td>\n",
       "      <td>-87.647729</td>\n",
       "      <td>0.499366</td>\n",
       "    </tr>\n",
       "    <tr>\n",
       "      <th>member</th>\n",
       "      <td>41.900829</td>\n",
       "      <td>-87.647631</td>\n",
       "      <td>41.900893</td>\n",
       "      <td>-87.647700</td>\n",
       "      <td>0.221112</td>\n",
       "    </tr>\n",
       "    <tr>\n",
       "      <th rowspan=\"2\" valign=\"top\">Monday</th>\n",
       "      <th>casual</th>\n",
       "      <td>41.900744</td>\n",
       "      <td>-87.645498</td>\n",
       "      <td>41.901263</td>\n",
       "      <td>-87.645895</td>\n",
       "      <td>0.523674</td>\n",
       "    </tr>\n",
       "    <tr>\n",
       "      <th>member</th>\n",
       "      <td>41.899344</td>\n",
       "      <td>-87.646761</td>\n",
       "      <td>41.899660</td>\n",
       "      <td>-87.646958</td>\n",
       "      <td>0.218372</td>\n",
       "    </tr>\n",
       "    <tr>\n",
       "      <th rowspan=\"2\" valign=\"top\">Saturday</th>\n",
       "      <th>casual</th>\n",
       "      <td>41.904878</td>\n",
       "      <td>-87.645251</td>\n",
       "      <td>41.905133</td>\n",
       "      <td>-87.645375</td>\n",
       "      <td>0.575522</td>\n",
       "    </tr>\n",
       "    <tr>\n",
       "      <th>member</th>\n",
       "      <td>41.905618</td>\n",
       "      <td>-87.648494</td>\n",
       "      <td>41.905692</td>\n",
       "      <td>-87.648635</td>\n",
       "      <td>0.252611</td>\n",
       "    </tr>\n",
       "    <tr>\n",
       "      <th rowspan=\"2\" valign=\"top\">Sunday</th>\n",
       "      <th>casual</th>\n",
       "      <td>41.903465</td>\n",
       "      <td>-87.644515</td>\n",
       "      <td>41.903797</td>\n",
       "      <td>-87.644921</td>\n",
       "      <td>0.611709</td>\n",
       "    </tr>\n",
       "    <tr>\n",
       "      <th>member</th>\n",
       "      <td>41.904671</td>\n",
       "      <td>-87.647892</td>\n",
       "      <td>41.904728</td>\n",
       "      <td>-87.648081</td>\n",
       "      <td>0.254903</td>\n",
       "    </tr>\n",
       "    <tr>\n",
       "      <th rowspan=\"2\" valign=\"top\">Thursday</th>\n",
       "      <th>casual</th>\n",
       "      <td>41.901885</td>\n",
       "      <td>-87.647726</td>\n",
       "      <td>41.902322</td>\n",
       "      <td>-87.648079</td>\n",
       "      <td>0.453474</td>\n",
       "    </tr>\n",
       "    <tr>\n",
       "      <th>member</th>\n",
       "      <td>41.899779</td>\n",
       "      <td>-87.647053</td>\n",
       "      <td>41.899992</td>\n",
       "      <td>-87.647169</td>\n",
       "      <td>0.214088</td>\n",
       "    </tr>\n",
       "    <tr>\n",
       "      <th rowspan=\"2\" valign=\"top\">Tuesday</th>\n",
       "      <th>casual</th>\n",
       "      <td>41.900826</td>\n",
       "      <td>-87.647063</td>\n",
       "      <td>41.901393</td>\n",
       "      <td>-87.647414</td>\n",
       "      <td>0.463818</td>\n",
       "    </tr>\n",
       "    <tr>\n",
       "      <th>member</th>\n",
       "      <td>41.898950</td>\n",
       "      <td>-87.646617</td>\n",
       "      <td>41.899240</td>\n",
       "      <td>-87.646771</td>\n",
       "      <td>0.213387</td>\n",
       "    </tr>\n",
       "    <tr>\n",
       "      <th rowspan=\"2\" valign=\"top\">Wednesday</th>\n",
       "      <th>casual</th>\n",
       "      <td>41.901265</td>\n",
       "      <td>-87.647474</td>\n",
       "      <td>41.901784</td>\n",
       "      <td>-87.647839</td>\n",
       "      <td>0.450206</td>\n",
       "    </tr>\n",
       "    <tr>\n",
       "      <th>member</th>\n",
       "      <td>41.899488</td>\n",
       "      <td>-87.646772</td>\n",
       "      <td>41.899767</td>\n",
       "      <td>-87.646905</td>\n",
       "      <td>0.213495</td>\n",
       "    </tr>\n",
       "  </tbody>\n",
       "</table>\n",
       "</div>"
      ],
      "text/plain": [
       "                           start_lat  start_lng    end_lat    end_lng  \\\n",
       "Day_of_Week member_casual                                               \n",
       "Friday      casual         41.902855 -87.647533  41.903062 -87.647729   \n",
       "            member         41.900829 -87.647631  41.900893 -87.647700   \n",
       "Monday      casual         41.900744 -87.645498  41.901263 -87.645895   \n",
       "            member         41.899344 -87.646761  41.899660 -87.646958   \n",
       "Saturday    casual         41.904878 -87.645251  41.905133 -87.645375   \n",
       "            member         41.905618 -87.648494  41.905692 -87.648635   \n",
       "Sunday      casual         41.903465 -87.644515  41.903797 -87.644921   \n",
       "            member         41.904671 -87.647892  41.904728 -87.648081   \n",
       "Thursday    casual         41.901885 -87.647726  41.902322 -87.648079   \n",
       "            member         41.899779 -87.647053  41.899992 -87.647169   \n",
       "Tuesday     casual         41.900826 -87.647063  41.901393 -87.647414   \n",
       "            member         41.898950 -87.646617  41.899240 -87.646771   \n",
       "Wednesday   casual         41.901265 -87.647474  41.901784 -87.647839   \n",
       "            member         41.899488 -87.646772  41.899767 -87.646905   \n",
       "\n",
       "                           Ride_Length  \n",
       "Day_of_Week member_casual               \n",
       "Friday      casual            0.499366  \n",
       "            member            0.221112  \n",
       "Monday      casual            0.523674  \n",
       "            member            0.218372  \n",
       "Saturday    casual            0.575522  \n",
       "            member            0.252611  \n",
       "Sunday      casual            0.611709  \n",
       "            member            0.254903  \n",
       "Thursday    casual            0.453474  \n",
       "            member            0.214088  \n",
       "Tuesday     casual            0.463818  \n",
       "            member            0.213387  \n",
       "Wednesday   casual            0.450206  \n",
       "            member            0.213495  "
      ]
     },
     "execution_count": 14,
     "metadata": {},
     "output_type": "execute_result"
    }
   ],
   "source": [
    "df_clean.groupby(['Day_of_Week', 'member_casual']).mean()"
   ]
  },
  {
   "cell_type": "code",
   "execution_count": 15,
   "metadata": {},
   "outputs": [
    {
     "data": {
      "text/plain": [
       "member_casual\n",
       "casual    4626195\n",
       "member    5921350\n",
       "Name: member_casual, dtype: int64"
      ]
     },
     "execution_count": 15,
     "metadata": {},
     "output_type": "execute_result"
    }
   ],
   "source": [
    "df_clean.groupby('member_casual')['member_casual'].count()"
   ]
  },
  {
   "cell_type": "code",
   "execution_count": 16,
   "metadata": {},
   "outputs": [
    {
     "data": {
      "text/plain": [
       "<AxesSubplot: xlabel='Ride_Length'>"
      ]
     },
     "execution_count": 16,
     "metadata": {},
     "output_type": "execute_result"
    },
    {
     "data": {
      "image/png": "[encoded data removed]",
      "text/plain": [
       "<Figure size 432x288 with 1 Axes>"
      ]
     },
     "metadata": {},
     "output_type": "display_data"
    }
   ],
   "source": [
    "%matplotlib inline     \n",
    "sns.set(color_codes=True)\n",
    "sns.boxplot(x=df_clean['Ride_Length'])"
   ]
  },
  {
   "cell_type": "code",
   "execution_count": 17,
   "metadata": {},
   "outputs": [
    {
     "data": {
      "text/plain": [
       "count    1.054754e+07\n",
       "mean     3.565425e-01\n",
       "std      3.013985e+00\n",
       "min      1.694444e-02\n",
       "25%      1.097222e-01\n",
       "50%      1.919444e-01\n",
       "75%      3.450000e-01\n",
       "max      9.324025e+02\n",
       "Name: Ride_Length, dtype: float64"
      ]
     },
     "execution_count": 17,
     "metadata": {},
     "output_type": "execute_result"
    }
   ],
   "source": [
    "df_clean['Ride_Length'].describe()"
   ]
  },
  {
   "cell_type": "code",
   "execution_count": 18,
   "metadata": {},
   "outputs": [
    {
     "data": {
      "text/plain": [
       "Day_of_Week\n",
       "Friday       1512566\n",
       "Monday       1362064\n",
       "Saturday     1816143\n",
       "Sunday       1552931\n",
       "Thursday     1460086\n",
       "Tuesday      1406777\n",
       "Wednesday    1436978\n",
       "Name: member_casual, dtype: int64"
      ]
     },
     "execution_count": 18,
     "metadata": {},
     "output_type": "execute_result"
    }
   ],
   "source": [
    "df_clean.groupby('Day_of_Week')['member_casual'].count()"
   ]
  },
  {
   "cell_type": "code",
   "execution_count": 19,
   "metadata": {},
   "outputs": [],
   "source": [
    "# sns.boxplot(x=clean_df['Ride_Length'])"
   ]
  },
  {
   "cell_type": "code",
   "execution_count": 20,
   "metadata": {},
   "outputs": [
    {
     "data": {
      "text/plain": [
       "Day_of_Week  member_casual\n",
       "Friday       casual           0.499366\n",
       "             member           0.221112\n",
       "Monday       casual           0.523674\n",
       "             member           0.218372\n",
       "Saturday     casual           0.575522\n",
       "             member           0.252611\n",
       "Sunday       casual           0.611709\n",
       "             member           0.254903\n",
       "Thursday     casual           0.453474\n",
       "             member           0.214088\n",
       "Tuesday      casual           0.463818\n",
       "             member           0.213387\n",
       "Wednesday    casual           0.450206\n",
       "             member           0.213495\n",
       "Name: Ride_Length, dtype: float64"
      ]
     },
     "execution_count": 20,
     "metadata": {},
     "output_type": "execute_result"
    }
   ],
   "source": [
    "df_clean.groupby(['Day_of_Week', 'member_casual'])['Ride_Length'].mean()"
   ]
  },
  {
   "cell_type": "code",
   "execution_count": 21,
   "metadata": {},
   "outputs": [
    {
     "data": {
      "text/plain": [
       "Index(['rideable_type', 'started_at', 'ended_at', 'start_station_name',\n",
       "       'end_station_name', 'start_lat', 'start_lng', 'end_lat', 'end_lng',\n",
       "       'member_casual', 'Ride_Length', 'Day_of_Week'],\n",
       "      dtype='object')"
      ]
     },
     "execution_count": 21,
     "metadata": {},
     "output_type": "execute_result"
    }
   ],
   "source": [
    "df_clean.columns"
   ]
  },
  {
   "cell_type": "code",
   "execution_count": 22,
   "metadata": {},
   "outputs": [
    {
     "data": {
      "text/plain": [
       "classic_bike     5556156\n",
       "electric_bike    4512810\n",
       "docked_bike       478579\n",
       "Name: rideable_type, dtype: int64"
      ]
     },
     "execution_count": 22,
     "metadata": {},
     "output_type": "execute_result"
    }
   ],
   "source": [
    "df_clean['rideable_type'].value_counts()"
   ]
  },
  {
   "cell_type": "code",
   "execution_count": 23,
   "metadata": {},
   "outputs": [
    {
     "data": {
      "text/plain": [
       "Michigan Ave & Oak St                 81061\n",
       "Wells St & Concord Ln                 77246\n",
       "Millennium Park                       73878\n",
       "Clark St & Elm St                     71956\n",
       "Theater on the Lake                   67863\n",
       "Wells St & Elm St                     65548\n",
       "Kingsbury St & Kinzie St              62687\n",
       "DuSable Lake Shore Dr & North Blvd    61980\n",
       "DuSable Lake Shore Dr & Monroe St     59387\n",
       "Clark St & Armitage Ave               59036\n",
       "Clark St & Lincoln Ave                58401\n",
       "Broadway & Barry Ave                  57316\n",
       "Wabash Ave & Grand Ave                57121\n",
       "Dearborn St & Erie St                 54769\n",
       "Wells St & Huron St                   53952\n",
       "Indiana Ave & Roosevelt Rd            53674\n",
       "Wilton Ave & Belmont Ave              52438\n",
       "St. Clair St & Erie St                51386\n",
       "Shedd Aquarium                        50742\n",
       "Name: start_station_name, dtype: int64"
      ]
     },
     "execution_count": 23,
     "metadata": {},
     "output_type": "execute_result"
    }
   ],
   "source": [
    "df_clean['start_station_name'].value_counts().sort_values(ascending=False)[1:20]"
   ]
  },
  {
   "cell_type": "code",
   "execution_count": 24,
   "metadata": {},
   "outputs": [
    {
     "data": {
      "text/plain": [
       "Michigan Ave & Oak St                 82016\n",
       "Wells St & Concord Ln                 77401\n",
       "Millennium Park                       74768\n",
       "Clark St & Elm St                     70906\n",
       "Theater on the Lake                   68158\n",
       "DuSable Lake Shore Dr & North Blvd    67104\n",
       "Wells St & Elm St                     64074\n",
       "Kingsbury St & Kinzie St              60765\n",
       "Clark St & Armitage Ave               58607\n",
       "Name: end_station_name, dtype: int64"
      ]
     },
     "execution_count": 24,
     "metadata": {},
     "output_type": "execute_result"
    }
   ],
   "source": [
    "df_clean['end_station_name'].value_counts().sort_values(ascending=False)[1:10]"
   ]
  },
  {
   "cell_type": "code",
   "execution_count": 25,
   "metadata": {},
   "outputs": [
    {
     "data": {
      "text/plain": [
       "Index(['rideable_type', 'started_at', 'ended_at', 'start_station_name',\n",
       "       'end_station_name', 'start_lat', 'start_lng', 'end_lat', 'end_lng',\n",
       "       'member_casual', 'Ride_Length', 'Day_of_Week'],\n",
       "      dtype='object')"
      ]
     },
     "execution_count": 25,
     "metadata": {},
     "output_type": "execute_result"
    }
   ],
   "source": [
    "df_clean.columns"
   ]
  },
  {
   "cell_type": "code",
   "execution_count": 26,
   "metadata": {},
   "outputs": [
    {
     "data": {
      "text/html": [
       "<div>\n",
       "<style scoped>\n",
       "    .dataframe tbody tr th:only-of-type {\n",
       "        vertical-align: middle;\n",
       "    }\n",
       "\n",
       "    .dataframe tbody tr th {\n",
       "        vertical-align: top;\n",
       "    }\n",
       "\n",
       "    .dataframe thead th {\n",
       "        text-align: right;\n",
       "    }\n",
       "</style>\n",
       "<table border=\"1\" class=\"dataframe\">\n",
       "  <thead>\n",
       "    <tr style=\"text-align: right;\">\n",
       "      <th></th>\n",
       "      <th>rideable_type</th>\n",
       "      <th>started_at</th>\n",
       "      <th>member_casual</th>\n",
       "      <th>Ride_Length</th>\n",
       "      <th>Day_of_Week</th>\n",
       "    </tr>\n",
       "  </thead>\n",
       "  <tbody>\n",
       "    <tr>\n",
       "      <th>0</th>\n",
       "      <td>electric_bike</td>\n",
       "      <td>2022-08-07 21:34:15</td>\n",
       "      <td>casual</td>\n",
       "      <td>0.125278</td>\n",
       "      <td>Sunday</td>\n",
       "    </tr>\n",
       "    <tr>\n",
       "      <th>1</th>\n",
       "      <td>electric_bike</td>\n",
       "      <td>2022-08-08 14:39:21</td>\n",
       "      <td>casual</td>\n",
       "      <td>0.233889</td>\n",
       "      <td>Monday</td>\n",
       "    </tr>\n",
       "    <tr>\n",
       "      <th>2</th>\n",
       "      <td>electric_bike</td>\n",
       "      <td>2022-08-08 15:29:50</td>\n",
       "      <td>casual</td>\n",
       "      <td>0.178889</td>\n",
       "      <td>Monday</td>\n",
       "    </tr>\n",
       "    <tr>\n",
       "      <th>3</th>\n",
       "      <td>electric_bike</td>\n",
       "      <td>2022-08-08 02:43:50</td>\n",
       "      <td>casual</td>\n",
       "      <td>0.250833</td>\n",
       "      <td>Monday</td>\n",
       "    </tr>\n",
       "    <tr>\n",
       "      <th>4</th>\n",
       "      <td>electric_bike</td>\n",
       "      <td>2022-08-07 20:24:06</td>\n",
       "      <td>casual</td>\n",
       "      <td>0.097778</td>\n",
       "      <td>Sunday</td>\n",
       "    </tr>\n",
       "  </tbody>\n",
       "</table>\n",
       "</div>"
      ],
      "text/plain": [
       "   rideable_type          started_at member_casual  Ride_Length Day_of_Week\n",
       "0  electric_bike 2022-08-07 21:34:15        casual     0.125278      Sunday\n",
       "1  electric_bike 2022-08-08 14:39:21        casual     0.233889      Monday\n",
       "2  electric_bike 2022-08-08 15:29:50        casual     0.178889      Monday\n",
       "3  electric_bike 2022-08-08 02:43:50        casual     0.250833      Monday\n",
       "4  electric_bike 2022-08-07 20:24:06        casual     0.097778      Sunday"
      ]
     },
     "execution_count": 26,
     "metadata": {},
     "output_type": "execute_result"
    }
   ],
   "source": [
    "#Cleaning up our columns:\n",
    "\n",
    "dfML = df_clean.drop(['start_lat', 'end_lat', 'start_lng', 'end_lng','start_station_name','end_station_name','ended_at'], axis='columns')\n",
    "dfML.head()"
   ]
  },
  {
   "cell_type": "code",
   "execution_count": 27,
   "metadata": {},
   "outputs": [],
   "source": [
    "dfML['Ride_Length'] = dfML['Ride_Length'] * 60"
   ]
  },
  {
   "cell_type": "code",
   "execution_count": 28,
   "metadata": {},
   "outputs": [],
   "source": [
    "dfML['Ride_Length'] = dfML['Ride_Length'].astype(int)"
   ]
  },
  {
   "cell_type": "code",
   "execution_count": 29,
   "metadata": {},
   "outputs": [
    {
     "data": {
      "text/html": [
       "<div>\n",
       "<style scoped>\n",
       "    .dataframe tbody tr th:only-of-type {\n",
       "        vertical-align: middle;\n",
       "    }\n",
       "\n",
       "    .dataframe tbody tr th {\n",
       "        vertical-align: top;\n",
       "    }\n",
       "\n",
       "    .dataframe thead th {\n",
       "        text-align: right;\n",
       "    }\n",
       "</style>\n",
       "<table border=\"1\" class=\"dataframe\">\n",
       "  <thead>\n",
       "    <tr style=\"text-align: right;\">\n",
       "      <th></th>\n",
       "      <th>rideable_type</th>\n",
       "      <th>started_at</th>\n",
       "      <th>member_casual</th>\n",
       "      <th>Ride_Length</th>\n",
       "      <th>Day_of_Week</th>\n",
       "    </tr>\n",
       "  </thead>\n",
       "  <tbody>\n",
       "    <tr>\n",
       "      <th>0</th>\n",
       "      <td>electric_bike</td>\n",
       "      <td>2022-08-07 21:34:15</td>\n",
       "      <td>casual</td>\n",
       "      <td>7</td>\n",
       "      <td>Sunday</td>\n",
       "    </tr>\n",
       "    <tr>\n",
       "      <th>1</th>\n",
       "      <td>electric_bike</td>\n",
       "      <td>2022-08-08 14:39:21</td>\n",
       "      <td>casual</td>\n",
       "      <td>14</td>\n",
       "      <td>Monday</td>\n",
       "    </tr>\n",
       "    <tr>\n",
       "      <th>2</th>\n",
       "      <td>electric_bike</td>\n",
       "      <td>2022-08-08 15:29:50</td>\n",
       "      <td>casual</td>\n",
       "      <td>10</td>\n",
       "      <td>Monday</td>\n",
       "    </tr>\n",
       "    <tr>\n",
       "      <th>3</th>\n",
       "      <td>electric_bike</td>\n",
       "      <td>2022-08-08 02:43:50</td>\n",
       "      <td>casual</td>\n",
       "      <td>15</td>\n",
       "      <td>Monday</td>\n",
       "    </tr>\n",
       "    <tr>\n",
       "      <th>4</th>\n",
       "      <td>electric_bike</td>\n",
       "      <td>2022-08-07 20:24:06</td>\n",
       "      <td>casual</td>\n",
       "      <td>5</td>\n",
       "      <td>Sunday</td>\n",
       "    </tr>\n",
       "  </tbody>\n",
       "</table>\n",
       "</div>"
      ],
      "text/plain": [
       "   rideable_type          started_at member_casual  Ride_Length Day_of_Week\n",
       "0  electric_bike 2022-08-07 21:34:15        casual            7      Sunday\n",
       "1  electric_bike 2022-08-08 14:39:21        casual           14      Monday\n",
       "2  electric_bike 2022-08-08 15:29:50        casual           10      Monday\n",
       "3  electric_bike 2022-08-08 02:43:50        casual           15      Monday\n",
       "4  electric_bike 2022-08-07 20:24:06        casual            5      Sunday"
      ]
     },
     "execution_count": 29,
     "metadata": {},
     "output_type": "execute_result"
    }
   ],
   "source": [
    "dfML.head()"
   ]
  },
  {
   "cell_type": "code",
   "execution_count": 30,
   "metadata": {},
   "outputs": [],
   "source": [
    "#Break datetime into integer value for Month\n",
    "dfML['Month'] = dfML['started_at'].dt.month"
   ]
  },
  {
   "cell_type": "code",
   "execution_count": 31,
   "metadata": {},
   "outputs": [
    {
     "data": {
      "text/plain": [
       "7     1615118\n",
       "8     1561038\n",
       "6     1471292\n",
       "9     1430748\n",
       "10    1166611\n",
       "5     1145494\n",
       "4      696250\n",
       "3      504382\n",
       "11     354062\n",
       "12     243586\n",
       "1      197303\n",
       "2      161661\n",
       "Name: Month, dtype: int64"
      ]
     },
     "execution_count": 31,
     "metadata": {},
     "output_type": "execute_result"
    }
   ],
   "source": [
    "dfML.Month.value_counts()"
   ]
  },
  {
   "cell_type": "code",
   "execution_count": 32,
   "metadata": {},
   "outputs": [],
   "source": [
    "dfML['Season'] = pd.cut(dfML['Month'],\n",
    "                            [0,3,9,12],\n",
    "                            labels = ['Cold', 'Warm', 'Cold'],\n",
    "                             include_lowest=True,\n",
    "                            ordered=False)"
   ]
  },
  {
   "cell_type": "code",
   "execution_count": 33,
   "metadata": {},
   "outputs": [],
   "source": [
    "dfML['Part_of_Weekend'] = np.where((dfML['Day_of_Week'] == 'Saturday') | (dfML['Day_of_Week'] == 'Sunday'), 1,0)"
   ]
  },
  {
   "cell_type": "code",
   "execution_count": 34,
   "metadata": {},
   "outputs": [],
   "source": [
    "#Break datetime into integer value for hour\n",
    "dfML['Hours'] = dfML['started_at'].dt.hour"
   ]
  },
  {
   "cell_type": "code",
   "execution_count": 35,
   "metadata": {},
   "outputs": [],
   "source": [
    "dfML['Part_of_Day'] = pd.cut(dfML['Hours'],\n",
    "                            [0,4,8,16,20,23],\n",
    "                            labels = ['Late_Night', 'Morning', 'Afternoon','Evening', 'Night'],\n",
    "                             include_lowest=True,\n",
    "                            ordered=False)"
   ]
  },
  {
   "cell_type": "code",
   "execution_count": 36,
   "metadata": {},
   "outputs": [
    {
     "data": {
      "text/plain": [
       "Afternoon     4920554\n",
       "Evening       3130131\n",
       "Morning       1148337\n",
       "Night          945685\n",
       "Late_Night     402838\n",
       "Name: Part_of_Day, dtype: int64"
      ]
     },
     "execution_count": 36,
     "metadata": {},
     "output_type": "execute_result"
    }
   ],
   "source": [
    "dfML.Part_of_Day.value_counts()"
   ]
  },
  {
   "cell_type": "code",
   "execution_count": 37,
   "metadata": {},
   "outputs": [],
   "source": [
    "dfML['Ride_Type'] = np.where(dfML['member_casual'] == 'member',1,0)"
   ]
  },
  {
   "cell_type": "code",
   "execution_count": 38,
   "metadata": {},
   "outputs": [
    {
     "data": {
      "text/plain": [
       "Index(['rideable_type', 'started_at', 'member_casual', 'Ride_Length',\n",
       "       'Day_of_Week', 'Month', 'Season', 'Part_of_Weekend', 'Hours',\n",
       "       'Part_of_Day', 'Ride_Type'],\n",
       "      dtype='object')"
      ]
     },
     "execution_count": 38,
     "metadata": {},
     "output_type": "execute_result"
    }
   ],
   "source": [
    "dfML.columns"
   ]
  },
  {
   "cell_type": "code",
   "execution_count": 39,
   "metadata": {},
   "outputs": [],
   "source": [
    "bt_dummies = pd.get_dummies(dfML['rideable_type'])"
   ]
  },
  {
   "cell_type": "code",
   "execution_count": 40,
   "metadata": {},
   "outputs": [],
   "source": [
    "seasons_dummies = pd.get_dummies(dfML['Season'])"
   ]
  },
  {
   "cell_type": "code",
   "execution_count": 41,
   "metadata": {},
   "outputs": [],
   "source": [
    "pod_dummies = pd.get_dummies(dfML['Part_of_Day'])"
   ]
  },
  {
   "cell_type": "code",
   "execution_count": 42,
   "metadata": {},
   "outputs": [],
   "source": [
    "dfML = pd.concat([dfML, bt_dummies, seasons_dummies, pod_dummies], axis=1)"
   ]
  },
  {
   "cell_type": "code",
   "execution_count": 43,
   "metadata": {},
   "outputs": [],
   "source": [
    "dfML = dfML.drop(columns = ['Part_of_Day', 'Day_of_Week', 'Season','started_at', 'rideable_type', 'member_casual'])"
   ]
  },
  {
   "cell_type": "code",
   "execution_count": 44,
   "metadata": {},
   "outputs": [
    {
     "data": {
      "text/html": [
       "<div>\n",
       "<style scoped>\n",
       "    .dataframe tbody tr th:only-of-type {\n",
       "        vertical-align: middle;\n",
       "    }\n",
       "\n",
       "    .dataframe tbody tr th {\n",
       "        vertical-align: top;\n",
       "    }\n",
       "\n",
       "    .dataframe thead th {\n",
       "        text-align: right;\n",
       "    }\n",
       "</style>\n",
       "<table border=\"1\" class=\"dataframe\">\n",
       "  <thead>\n",
       "    <tr style=\"text-align: right;\">\n",
       "      <th></th>\n",
       "      <th>Ride_Length</th>\n",
       "      <th>Month</th>\n",
       "      <th>Part_of_Weekend</th>\n",
       "      <th>Hours</th>\n",
       "      <th>Ride_Type</th>\n",
       "      <th>classic_bike</th>\n",
       "      <th>docked_bike</th>\n",
       "      <th>electric_bike</th>\n",
       "      <th>Cold</th>\n",
       "      <th>Warm</th>\n",
       "      <th>Late_Night</th>\n",
       "      <th>Morning</th>\n",
       "      <th>Afternoon</th>\n",
       "      <th>Evening</th>\n",
       "      <th>Night</th>\n",
       "    </tr>\n",
       "  </thead>\n",
       "  <tbody>\n",
       "    <tr>\n",
       "      <th>0</th>\n",
       "      <td>7</td>\n",
       "      <td>8</td>\n",
       "      <td>1</td>\n",
       "      <td>21</td>\n",
       "      <td>0</td>\n",
       "      <td>0</td>\n",
       "      <td>0</td>\n",
       "      <td>1</td>\n",
       "      <td>0</td>\n",
       "      <td>1</td>\n",
       "      <td>0</td>\n",
       "      <td>0</td>\n",
       "      <td>0</td>\n",
       "      <td>0</td>\n",
       "      <td>1</td>\n",
       "    </tr>\n",
       "    <tr>\n",
       "      <th>1</th>\n",
       "      <td>14</td>\n",
       "      <td>8</td>\n",
       "      <td>0</td>\n",
       "      <td>14</td>\n",
       "      <td>0</td>\n",
       "      <td>0</td>\n",
       "      <td>0</td>\n",
       "      <td>1</td>\n",
       "      <td>0</td>\n",
       "      <td>1</td>\n",
       "      <td>0</td>\n",
       "      <td>0</td>\n",
       "      <td>1</td>\n",
       "      <td>0</td>\n",
       "      <td>0</td>\n",
       "    </tr>\n",
       "    <tr>\n",
       "      <th>2</th>\n",
       "      <td>10</td>\n",
       "      <td>8</td>\n",
       "      <td>0</td>\n",
       "      <td>15</td>\n",
       "      <td>0</td>\n",
       "      <td>0</td>\n",
       "      <td>0</td>\n",
       "      <td>1</td>\n",
       "      <td>0</td>\n",
       "      <td>1</td>\n",
       "      <td>0</td>\n",
       "      <td>0</td>\n",
       "      <td>1</td>\n",
       "      <td>0</td>\n",
       "      <td>0</td>\n",
       "    </tr>\n",
       "    <tr>\n",
       "      <th>3</th>\n",
       "      <td>15</td>\n",
       "      <td>8</td>\n",
       "      <td>0</td>\n",
       "      <td>2</td>\n",
       "      <td>0</td>\n",
       "      <td>0</td>\n",
       "      <td>0</td>\n",
       "      <td>1</td>\n",
       "      <td>0</td>\n",
       "      <td>1</td>\n",
       "      <td>1</td>\n",
       "      <td>0</td>\n",
       "      <td>0</td>\n",
       "      <td>0</td>\n",
       "      <td>0</td>\n",
       "    </tr>\n",
       "    <tr>\n",
       "      <th>4</th>\n",
       "      <td>5</td>\n",
       "      <td>8</td>\n",
       "      <td>1</td>\n",
       "      <td>20</td>\n",
       "      <td>0</td>\n",
       "      <td>0</td>\n",
       "      <td>0</td>\n",
       "      <td>1</td>\n",
       "      <td>0</td>\n",
       "      <td>1</td>\n",
       "      <td>0</td>\n",
       "      <td>0</td>\n",
       "      <td>0</td>\n",
       "      <td>1</td>\n",
       "      <td>0</td>\n",
       "    </tr>\n",
       "  </tbody>\n",
       "</table>\n",
       "</div>"
      ],
      "text/plain": [
       "   Ride_Length  Month  Part_of_Weekend  Hours  Ride_Type  classic_bike  \\\n",
       "0            7      8                1     21          0             0   \n",
       "1           14      8                0     14          0             0   \n",
       "2           10      8                0     15          0             0   \n",
       "3           15      8                0      2          0             0   \n",
       "4            5      8                1     20          0             0   \n",
       "\n",
       "   docked_bike  electric_bike  Cold  Warm  Late_Night  Morning  Afternoon  \\\n",
       "0            0              1     0     1           0        0          0   \n",
       "1            0              1     0     1           0        0          1   \n",
       "2            0              1     0     1           0        0          1   \n",
       "3            0              1     0     1           1        0          0   \n",
       "4            0              1     0     1           0        0          0   \n",
       "\n",
       "   Evening  Night  \n",
       "0        0      1  \n",
       "1        0      0  \n",
       "2        0      0  \n",
       "3        0      0  \n",
       "4        1      0  "
      ]
     },
     "execution_count": 44,
     "metadata": {},
     "output_type": "execute_result"
    }
   ],
   "source": [
    "dfML.head()"
   ]
  },
  {
   "cell_type": "code",
   "execution_count": 45,
   "metadata": {},
   "outputs": [],
   "source": [
    "dfML.fillna(\"NotatDock\", inplace=True)"
   ]
  },
  {
   "cell_type": "code",
   "execution_count": 46,
   "metadata": {},
   "outputs": [
    {
     "data": {
      "text/plain": [
       "Ride_Length        0\n",
       "Month              0\n",
       "Part_of_Weekend    0\n",
       "Hours              0\n",
       "Ride_Type          0\n",
       "classic_bike       0\n",
       "docked_bike        0\n",
       "electric_bike      0\n",
       "Cold               0\n",
       "Warm               0\n",
       "Late_Night         0\n",
       "Morning            0\n",
       "Afternoon          0\n",
       "Evening            0\n",
       "Night              0\n",
       "dtype: int64"
      ]
     },
     "execution_count": 46,
     "metadata": {},
     "output_type": "execute_result"
    }
   ],
   "source": [
    "dfML.isna().sum()"
   ]
  },
  {
   "cell_type": "code",
   "execution_count": 47,
   "metadata": {},
   "outputs": [
    {
     "data": {
      "text/plain": [
       "Index(['Ride_Length', 'Month', 'Part_of_Weekend', 'Hours', 'Ride_Type',\n",
       "       'classic_bike', 'docked_bike', 'electric_bike', 'Cold', 'Warm',\n",
       "       'Late_Night', 'Morning', 'Afternoon', 'Evening', 'Night'],\n",
       "      dtype='object')"
      ]
     },
     "execution_count": 47,
     "metadata": {},
     "output_type": "execute_result"
    }
   ],
   "source": [
    "dfML.columns"
   ]
  },
  {
   "cell_type": "code",
   "execution_count": 48,
   "metadata": {},
   "outputs": [],
   "source": [
    "from sklearn.model_selection import train_test_split\n",
    "y = dfML['Ride_Type']\n",
    "X = dfML.drop(['Ride_Type'], axis=1)\n",
    "X_train, X_test, y_train, y_test = train_test_split(X,y, test_size=0.3, random_state=30)"
   ]
  },
  {
   "cell_type": "code",
   "execution_count": 49,
   "metadata": {},
   "outputs": [
    {
     "data": {
      "text/plain": [
       "1    4146000\n",
       "0    3237281\n",
       "Name: Ride_Type, dtype: int64"
      ]
     },
     "execution_count": 49,
     "metadata": {},
     "output_type": "execute_result"
    }
   ],
   "source": [
    "#checking training data \n",
    "y_train.value_counts()"
   ]
  },
  {
   "cell_type": "code",
   "execution_count": 50,
   "metadata": {},
   "outputs": [
    {
     "data": {
      "text/plain": [
       "Ride_Length  Month  Part_of_Weekend  Hours  classic_bike  docked_bike  electric_bike  Cold  Warm  Late_Night  Morning  Afternoon  Evening  Night\n",
       "6            8      0                17     1             0            0              0     1     0           0        0          1        0        2880\n",
       "7            8      0                17     1             0            0              0     1     0           0        0          1        0        2815\n",
       "5            8      0                17     1             0            0              0     1     0           0        0          1        0        2783\n",
       "6            9      0                17     1             0            0              0     1     0           0        0          1        0        2738\n",
       "8            8      0                17     1             0            0              0     1     0           0        0          1        0        2658\n",
       "                                                                                                                                                    ... \n",
       "115          3      1                19     0             1            0              1     0     0           0        0          1        0           1\n",
       "                                     22     0             1            0              1     0     0           0        0          0        1           1\n",
       "             4      0                1      0             0            1              0     1     1           0        0          0        0           1\n",
       "                                     11     0             0            1              0     1     0           0        1          0        0           1\n",
       "55944        6      1                2      0             1            0              0     1     1           0        0          0        0           1\n",
       "Length: 184220, dtype: int64"
      ]
     },
     "execution_count": 50,
     "metadata": {},
     "output_type": "execute_result"
    }
   ],
   "source": [
    "X_train.value_counts()"
   ]
  },
  {
   "cell_type": "code",
   "execution_count": 51,
   "metadata": {},
   "outputs": [
    {
     "data": {
      "text/plain": [
       "Ride_Length        0\n",
       "Month              0\n",
       "Part_of_Weekend    0\n",
       "Hours              0\n",
       "classic_bike       0\n",
       "docked_bike        0\n",
       "electric_bike      0\n",
       "Cold               0\n",
       "Warm               0\n",
       "Late_Night         0\n",
       "Morning            0\n",
       "Afternoon          0\n",
       "Evening            0\n",
       "Night              0\n",
       "dtype: int64"
      ]
     },
     "execution_count": 51,
     "metadata": {},
     "output_type": "execute_result"
    }
   ],
   "source": [
    "#Lets double check we have no relevant nulls\n",
    "X_test.isna().sum()"
   ]
  },
  {
   "cell_type": "code",
   "execution_count": 52,
   "metadata": {},
   "outputs": [],
   "source": [
    "from sklearn.ensemble import RandomForestClassifier\n",
    "from sklearn import metrics\n",
    "from sklearn.metrics import accuracy_score, confusion_matrix, classification_report"
   ]
  },
  {
   "cell_type": "code",
   "execution_count": 53,
   "metadata": {},
   "outputs": [],
   "source": [
    "clf = RandomForestClassifier(n_estimators = 100, random_state = 20)\n",
    "rf_train = clf.fit(X_train,y_train)"
   ]
  },
  {
   "cell_type": "code",
   "execution_count": 54,
   "metadata": {},
   "outputs": [],
   "source": [
    "y_pred = clf.predict(X_test)"
   ]
  },
  {
   "cell_type": "code",
   "execution_count": 55,
   "metadata": {},
   "outputs": [
    {
     "data": {
      "text/plain": [
       "array([[0.48269444, 0.51730556],\n",
       "       [0.59633054, 0.40366946],\n",
       "       [0.48405879, 0.51594121],\n",
       "       [0.67647139, 0.32352861],\n",
       "       [0.55060248, 0.44939752]])"
      ]
     },
     "execution_count": 55,
     "metadata": {},
     "output_type": "execute_result"
    }
   ],
   "source": [
    "clf.predict_proba(X)[0:5]"
   ]
  },
  {
   "cell_type": "code",
   "execution_count": 56,
   "metadata": {},
   "outputs": [
    {
     "name": "stdout",
     "output_type": "stream",
     "text": [
      "[('Ride_Length', 0.40522609238786916), ('Month', 0.05780191863948374), ('Part_of_Weekend', 0.07000817709467337), ('Hours', 0.05122982041822269), ('classic_bike', 0.0602546962010843), ('docked_bike', 0.1947048811912125), ('electric_bike', 0.04366953525620037), ('Cold', 0.027684356569922495), ('Warm', 0.026230148717383023), ('Late_Night', 0.010750802801450568), ('Morning', 0.03983374167747389), ('Afternoon', 0.0036504863158682366), ('Evening', 0.002450991883063556), ('Night', 0.006504350846091985)]\n"
     ]
    }
   ],
   "source": [
    "importance = list(zip(X, clf.feature_importances_))\n",
    "print(importance)"
   ]
  },
  {
   "cell_type": "code",
   "execution_count": 57,
   "metadata": {},
   "outputs": [
    {
     "name": "stdout",
     "output_type": "stream",
     "text": [
      "              precision    recall  f1-score   support\n",
      "\n",
      "           0       0.66      0.51      0.57   1388914\n",
      "           1       0.67      0.80      0.73   1775350\n",
      "\n",
      "    accuracy                           0.67   3164264\n",
      "   macro avg       0.67      0.65      0.65   3164264\n",
      "weighted avg       0.67      0.67      0.66   3164264\n",
      "\n"
     ]
    }
   ],
   "source": [
    "print(classification_report(y_test, y_pred))"
   ]
  },
  {
   "cell_type": "code",
   "execution_count": 58,
   "metadata": {},
   "outputs": [
    {
     "data": {
      "text/plain": [
       "67.03353449648955"
      ]
     },
     "execution_count": 58,
     "metadata": {},
     "output_type": "execute_result"
    }
   ],
   "source": [
    "accuracy = (metrics.accuracy_score(y_test, y_pred)) * 100\n",
    "accuracy"
   ]
  },
  {
   "cell_type": "markdown",
   "metadata": {},
   "source": [
    "Ride Length plus Time"
   ]
  },
  {
   "cell_type": "code",
   "execution_count": 76,
   "metadata": {},
   "outputs": [],
   "source": [
    "dfML_time = dfML[['Ride_Type','Ride_Length', 'Month', 'Part_of_Weekend', 'classic_bike','electric_bike','docked_bike']].copy()"
   ]
  },
  {
   "cell_type": "code",
   "execution_count": 77,
   "metadata": {},
   "outputs": [],
   "source": [
    "yt = dfML_time['Ride_Type']\n",
    "Xt = dfML_time.drop(['Ride_Type'], axis=1)\n",
    "Xt_train, Xt_test, yt_train, yt_test = train_test_split(Xt,yt, test_size=0.3, random_state=30)"
   ]
  },
  {
   "cell_type": "code",
   "execution_count": 78,
   "metadata": {},
   "outputs": [],
   "source": [
    "clft = RandomForestClassifier(n_estimators = 100, random_state = 20)\n",
    "rft_train = clft.fit(Xt_train,yt_train)"
   ]
  },
  {
   "cell_type": "code",
   "execution_count": 79,
   "metadata": {},
   "outputs": [],
   "source": [
    "yt_pred = clft.predict(Xt_test)"
   ]
  },
  {
   "cell_type": "code",
   "execution_count": 80,
   "metadata": {},
   "outputs": [
    {
     "data": {
      "text/plain": [
       "array([[0.52866453, 0.47133547],\n",
       "       [0.50422339, 0.49577661],\n",
       "       [0.47697651, 0.52302349],\n",
       "       [0.49850814, 0.50149186],\n",
       "       [0.49352996, 0.50647004]])"
      ]
     },
     "execution_count": 80,
     "metadata": {},
     "output_type": "execute_result"
    }
   ],
   "source": [
    "clft.predict_proba(Xt)[0:5]"
   ]
  },
  {
   "cell_type": "code",
   "execution_count": 81,
   "metadata": {},
   "outputs": [
    {
     "data": {
      "text/plain": [
       "[('Ride_Length', 0.4234856396202953),\n",
       " ('Month', 0.11646362692367655),\n",
       " ('Part_of_Weekend', 0.09601708847300512),\n",
       " ('classic_bike', 0.06321905399542105),\n",
       " ('electric_bike', 0.05716287816071255),\n",
       " ('docked_bike', 0.24365171282688944)]"
      ]
     },
     "execution_count": 81,
     "metadata": {},
     "output_type": "execute_result"
    }
   ],
   "source": [
    "impt = list(zip(Xt, clft.feature_importances_))\n",
    "impt"
   ]
  },
  {
   "cell_type": "code",
   "execution_count": 82,
   "metadata": {},
   "outputs": [
    {
     "name": "stdout",
     "output_type": "stream",
     "text": [
      "              precision    recall  f1-score   support\n",
      "\n",
      "           0       0.67      0.46      0.55   1388914\n",
      "           1       0.66      0.82      0.73   1775350\n",
      "\n",
      "    accuracy                           0.66   3164264\n",
      "   macro avg       0.67      0.64      0.64   3164264\n",
      "weighted avg       0.67      0.66      0.65   3164264\n",
      "\n"
     ]
    }
   ],
   "source": [
    "print(classification_report(yt_test, yt_pred))"
   ]
  },
  {
   "cell_type": "code",
   "execution_count": 83,
   "metadata": {},
   "outputs": [
    {
     "data": {
      "text/plain": [
       "66.4368080539424"
      ]
     },
     "execution_count": 83,
     "metadata": {},
     "output_type": "execute_result"
    }
   ],
   "source": [
    "acct = (metrics.accuracy_score(yt_test, yt_pred)) * 100\n",
    "acct"
   ]
  }
 ],
 "metadata": {
  "kernelspec": {
   "display_name": "Python 3.10.8 64-bit",
   "language": "python",
   "name": "python3"
  },
  "language_info": {
   "codemirror_mode": {
    "name": "ipython",
    "version": 3
   },
   "file_extension": ".py",
   "mimetype": "text/x-python",
   "name": "python",
   "nbconvert_exporter": "python",
   "pygments_lexer": "ipython3",
   "version": "3.10.8"
  },
  "orig_nbformat": 4,
  "vscode": {
   "interpreter": {
    "hash": "aee8b7b246df8f9039afb4144a1f6fd8d2ca17a180786b69acc140d282b71a49"
   }
  }
 },
 "nbformat": 4,
 "nbformat_minor": 2
}
