{
 "cells": [
  {
   "cell_type": "markdown",
   "metadata": {},
   "source": [
    "## Import Statements ##"
   ]
  },
  {
   "cell_type": "code",
   "execution_count": 123,
   "metadata": {},
   "outputs": [],
   "source": [
    "import pandas as pd\n",
    "import numpy as np\n",
    "import datetime\n",
    "import seaborn as sns                     \n",
    "import matplotlib.pyplot as plt           \n",
    "from sklearn.model_selection import train_test_split\n",
    "from sklearn.ensemble import RandomForestClassifier\n",
    "from sklearn import metrics\n",
    "from sklearn.metrics import accuracy_score, confusion_matrix, classification_report"
   ]
  },
  {
   "cell_type": "markdown",
   "metadata": {},
   "source": [
    "## Making a List of all the files from the directory ##"
   ]
  },
  {
   "cell_type": "code",
   "execution_count": 124,
   "metadata": {},
   "outputs": [
    {
     "name": "stdout",
     "output_type": "stream",
     "text": [
      "202208-divvy-tripdata.csv\n",
      "202205-divvy-tripdata.csv\n",
      "202109-divvy-tripdata.csv\n",
      "202104-divvy-tripdata.csv\n",
      ".DS_Store\n",
      "202107-divvy-tripdata.csv\n",
      "202206-divvy-tripdata.csv\n",
      "202210-divvy-tripdata.csv\n",
      "202111-divvy-tripdata.csv\n",
      "202101-divvy-tripdata.csv\n",
      "202102-divvy-tripdata.csv\n",
      "202112-divvy-tripdata.csv\n",
      "202203-divvy-tripdata.csv\n",
      "202103-divvy-tripdata.csv\n",
      "202202-divvy-tripdata.csv\n",
      "202201-divvy-tripdata.csv\n",
      "202110-divvy-tripdata.csv\n",
      "202106-divvy-tripdata.csv\n",
      "202207-divvy-tripdata.csv\n",
      "202209-divvy-tripdata.csv\n",
      "202204-divvy-tripdata.csv\n",
      "202108-divvy-tripdata.csv\n",
      "202105-divvy-tripdata.csv\n"
     ]
    }
   ],
   "source": [
    "file_path = \"/Users/vedantigulalkari/Documents/Fall Module 2/WDA/WDA Final Project/Monthly Datasets\"\n",
    "file_list = os.listdir(file_path)\n",
    "for f in file_list:\n",
    "    print(f)"
   ]
  },
  {
   "cell_type": "code",
   "execution_count": 125,
   "metadata": {},
   "outputs": [
    {
     "data": {
      "text/plain": [
       "22"
      ]
     },
     "execution_count": 125,
     "metadata": {},
     "output_type": "execute_result"
    }
   ],
   "source": [
    "# Remove Unnecessary files\n",
    "if (\".DS_Store\" in file_list):\n",
    "    file_list.remove(\".DS_Store\")\n",
    "len(file_list)"
   ]
  },
  {
   "cell_type": "markdown",
   "metadata": {},
   "source": [
    "## Combining all data files to get a combined dataset ##"
   ]
  },
  {
   "cell_type": "code",
   "execution_count": 126,
   "metadata": {},
   "outputs": [
    {
     "data": {
      "text/plain": [
       "(10743239, 13)"
      ]
     },
     "execution_count": 126,
     "metadata": {},
     "output_type": "execute_result"
    }
   ],
   "source": [
    "df = pd.concat([pd.read_csv(\"/Users/vedantigulalkari/Documents/Fall Module 2/WDA/WDA Final Project/Monthly Datasets/\"+f) for f in file_list], ignore_index=True)\n",
    "df.shape"
   ]
  },
  {
   "cell_type": "code",
   "execution_count": 127,
   "metadata": {},
   "outputs": [
    {
     "data": {
      "text/plain": [
       "ride_id                object\n",
       "rideable_type          object\n",
       "started_at             object\n",
       "ended_at               object\n",
       "start_station_name     object\n",
       "start_station_id       object\n",
       "end_station_name       object\n",
       "end_station_id         object\n",
       "start_lat             float64\n",
       "start_lng             float64\n",
       "end_lat               float64\n",
       "end_lng               float64\n",
       "member_casual          object\n",
       "dtype: object"
      ]
     },
     "execution_count": 127,
     "metadata": {},
     "output_type": "execute_result"
    }
   ],
   "source": [
    "#checking dtypes\n",
    "df.dtypes"
   ]
  },
  {
   "cell_type": "markdown",
   "metadata": {},
   "source": [
    "## Data Cleaning ##"
   ]
  },
  {
   "cell_type": "code",
   "execution_count": 128,
   "metadata": {},
   "outputs": [
    {
     "data": {
      "text/plain": [
       "ride_id                     0\n",
       "rideable_type               0\n",
       "started_at                  0\n",
       "ended_at                    0\n",
       "start_station_name    1442633\n",
       "start_station_id      1442630\n",
       "end_station_name      1546495\n",
       "end_station_id        1546495\n",
       "start_lat                   0\n",
       "start_lng                   0\n",
       "end_lat                 10271\n",
       "end_lng                 10271\n",
       "member_casual               0\n",
       "dtype: int64"
      ]
     },
     "execution_count": 128,
     "metadata": {},
     "output_type": "execute_result"
    }
   ],
   "source": [
    "#missing values\n",
    "df.isna().sum()"
   ]
  },
  {
   "cell_type": "code",
   "execution_count": 129,
   "metadata": {},
   "outputs": [],
   "source": [
    "#convert datatype datetime format\n",
    "df['started_at'] = pd.to_datetime(df['started_at'])\n",
    "df['ended_at'] = pd.to_datetime(df['ended_at'])"
   ]
  },
  {
   "cell_type": "code",
   "execution_count": 130,
   "metadata": {},
   "outputs": [],
   "source": [
    "# drop as not needed\n",
    "df = df.drop(['ride_id', 'start_station_id', 'end_station_id'], axis = 1)"
   ]
  },
  {
   "cell_type": "code",
   "execution_count": 131,
   "metadata": {},
   "outputs": [],
   "source": [
    "#Calculate ride-length column for future analysis \n",
    "df['Ride_Length'] = abs(((df['ended_at'] - df['started_at']).dt.days) * 24 + ((df['ended_at'] - df['started_at']).dt.seconds)/ 3600)"
   ]
  },
  {
   "cell_type": "code",
   "execution_count": 132,
   "metadata": {},
   "outputs": [],
   "source": [
    "df.describe\n",
    "df_clean = df[df['Ride_Length']>=0.0166667]"
   ]
  },
  {
   "cell_type": "code",
   "execution_count": 133,
   "metadata": {},
   "outputs": [
    {
     "name": "stdout",
     "output_type": "stream",
     "text": [
      "   rideable_type          started_at            ended_at start_station_name  \\\n",
      "0  electric_bike 2022-08-07 21:34:15 2022-08-07 21:41:46                NaN   \n",
      "1  electric_bike 2022-08-08 14:39:21 2022-08-08 14:53:23                NaN   \n",
      "2  electric_bike 2022-08-08 15:29:50 2022-08-08 15:40:34                NaN   \n",
      "3  electric_bike 2022-08-08 02:43:50 2022-08-08 02:58:53                NaN   \n",
      "4  electric_bike 2022-08-07 20:24:06 2022-08-07 20:29:58                NaN   \n",
      "\n",
      "  end_station_name  start_lat  start_lng  end_lat  end_lng member_casual  \\\n",
      "0              NaN      41.93     -87.69    41.94   -87.72        casual   \n",
      "1              NaN      41.89     -87.64    41.92   -87.64        casual   \n",
      "2              NaN      41.97     -87.69    41.97   -87.66        casual   \n",
      "3              NaN      41.94     -87.65    41.97   -87.69        casual   \n",
      "4              NaN      41.85     -87.65    41.84   -87.66        casual   \n",
      "\n",
      "   Ride_Length  \n",
      "0     0.125278  \n",
      "1     0.233889  \n",
      "2     0.178889  \n",
      "3     0.250833  \n",
      "4     0.097778  \n"
     ]
    },
    {
     "name": "stderr",
     "output_type": "stream",
     "text": [
      "/var/folders/0x/36r7dpkn1sjg4vx7v__2hz540000gn/T/ipykernel_69658/1499576522.py:1: SettingWithCopyWarning: \n",
      "A value is trying to be set on a copy of a slice from a DataFrame.\n",
      "Try using .loc[row_indexer,col_indexer] = value instead\n",
      "\n",
      "See the caveats in the documentation: https://pandas.pydata.org/pandas-docs/stable/user_guide/indexing.html#returning-a-view-versus-a-copy\n",
      "  df_clean['Day_of_Week'] = df_clean['started_at'].dt.day_name()\n"
     ]
    }
   ],
   "source": [
    "df_clean['Day_of_Week'] = df_clean['started_at'].dt.day_name()\n",
    "print(df.head())"
   ]
  },
  {
   "cell_type": "markdown",
   "metadata": {},
   "source": [
    "## Random Forest Modelling ##"
   ]
  },
  {
   "cell_type": "code",
   "execution_count": 134,
   "metadata": {},
   "outputs": [
    {
     "data": {
      "text/html": [
       "<div>\n",
       "<style scoped>\n",
       "    .dataframe tbody tr th:only-of-type {\n",
       "        vertical-align: middle;\n",
       "    }\n",
       "\n",
       "    .dataframe tbody tr th {\n",
       "        vertical-align: top;\n",
       "    }\n",
       "\n",
       "    .dataframe thead th {\n",
       "        text-align: right;\n",
       "    }\n",
       "</style>\n",
       "<table border=\"1\" class=\"dataframe\">\n",
       "  <thead>\n",
       "    <tr style=\"text-align: right;\">\n",
       "      <th></th>\n",
       "      <th>rideable_type</th>\n",
       "      <th>started_at</th>\n",
       "      <th>member_casual</th>\n",
       "      <th>Ride_Length</th>\n",
       "      <th>Day_of_Week</th>\n",
       "    </tr>\n",
       "  </thead>\n",
       "  <tbody>\n",
       "    <tr>\n",
       "      <th>0</th>\n",
       "      <td>electric_bike</td>\n",
       "      <td>2022-08-07 21:34:15</td>\n",
       "      <td>casual</td>\n",
       "      <td>0.125278</td>\n",
       "      <td>Sunday</td>\n",
       "    </tr>\n",
       "    <tr>\n",
       "      <th>1</th>\n",
       "      <td>electric_bike</td>\n",
       "      <td>2022-08-08 14:39:21</td>\n",
       "      <td>casual</td>\n",
       "      <td>0.233889</td>\n",
       "      <td>Monday</td>\n",
       "    </tr>\n",
       "    <tr>\n",
       "      <th>2</th>\n",
       "      <td>electric_bike</td>\n",
       "      <td>2022-08-08 15:29:50</td>\n",
       "      <td>casual</td>\n",
       "      <td>0.178889</td>\n",
       "      <td>Monday</td>\n",
       "    </tr>\n",
       "    <tr>\n",
       "      <th>3</th>\n",
       "      <td>electric_bike</td>\n",
       "      <td>2022-08-08 02:43:50</td>\n",
       "      <td>casual</td>\n",
       "      <td>0.250833</td>\n",
       "      <td>Monday</td>\n",
       "    </tr>\n",
       "    <tr>\n",
       "      <th>4</th>\n",
       "      <td>electric_bike</td>\n",
       "      <td>2022-08-07 20:24:06</td>\n",
       "      <td>casual</td>\n",
       "      <td>0.097778</td>\n",
       "      <td>Sunday</td>\n",
       "    </tr>\n",
       "  </tbody>\n",
       "</table>\n",
       "</div>"
      ],
      "text/plain": [
       "   rideable_type          started_at member_casual  Ride_Length Day_of_Week\n",
       "0  electric_bike 2022-08-07 21:34:15        casual     0.125278      Sunday\n",
       "1  electric_bike 2022-08-08 14:39:21        casual     0.233889      Monday\n",
       "2  electric_bike 2022-08-08 15:29:50        casual     0.178889      Monday\n",
       "3  electric_bike 2022-08-08 02:43:50        casual     0.250833      Monday\n",
       "4  electric_bike 2022-08-07 20:24:06        casual     0.097778      Sunday"
      ]
     },
     "execution_count": 134,
     "metadata": {},
     "output_type": "execute_result"
    }
   ],
   "source": [
    "#Cleaning up our columns:\n",
    "df_ML = df_clean.drop(['start_lat', 'end_lat', 'start_lng', 'end_lng','start_station_name','end_station_name','ended_at'], axis='columns')\n",
    "df_ML.head()"
   ]
  },
  {
   "cell_type": "code",
   "execution_count": 135,
   "metadata": {},
   "outputs": [],
   "source": [
    "#Convert Ride Length into minutes\n",
    "df_ML['Ride_Length'] = df_ML['Ride_Length'] * 60"
   ]
  },
  {
   "cell_type": "code",
   "execution_count": 136,
   "metadata": {},
   "outputs": [],
   "source": [
    "df_ML['Ride_Length'] = df_ML['Ride_Length'].astype(int)"
   ]
  },
  {
   "cell_type": "code",
   "execution_count": 138,
   "metadata": {},
   "outputs": [],
   "source": [
    "#Break datetime into integer value for Month\n",
    "df_ML['Month'] = df_ML['started_at'].dt.month"
   ]
  },
  {
   "cell_type": "code",
   "execution_count": 139,
   "metadata": {},
   "outputs": [],
   "source": [
    "#Season variable to analyse effect of seasonality\n",
    "df_ML['Season'] = pd.cut(df_ML['Month'],\n",
    "                            [0,3,9,12],\n",
    "                            labels = ['Cold', 'Warm', 'Cold'],\n",
    "                             include_lowest=True,\n",
    "                            ordered=False)"
   ]
  },
  {
   "cell_type": "code",
   "execution_count": 140,
   "metadata": {},
   "outputs": [],
   "source": [
    "df_ML['Part_of_Weekend'] = np.where((df_ML['Day_of_Week'] == 'Saturday') | (df_ML['Day_of_Week'] == 'Sunday'), 1,0)"
   ]
  },
  {
   "cell_type": "code",
   "execution_count": 141,
   "metadata": {},
   "outputs": [],
   "source": [
    "#Break datetime into integer value for hour\n",
    "df_ML['Hours'] = df_ML['started_at'].dt.hour"
   ]
  },
  {
   "cell_type": "code",
   "execution_count": 144,
   "metadata": {},
   "outputs": [],
   "source": [
    "df_ML['Ride_Type'] = np.where(df_ML['member_casual'] == 'member',1,0)"
   ]
  },
  {
   "cell_type": "code",
   "execution_count": 146,
   "metadata": {},
   "outputs": [],
   "source": [
    "#Creating Dummies for categorical variables\n",
    "bt_dummy = pd.get_dummies(df_ML['rideable_type'])\n",
    "seasons_dummy = pd.get_dummies(df_ML['Season'])"
   ]
  },
  {
   "cell_type": "code",
   "execution_count": 148,
   "metadata": {},
   "outputs": [],
   "source": [
    "df_ML = pd.concat([df_ML, bt_dummy, seasons_dummy], axis=1)"
   ]
  },
  {
   "cell_type": "code",
   "execution_count": 149,
   "metadata": {},
   "outputs": [],
   "source": [
    "df_ML = df_ML.drop(columns = ['Day_of_Week', 'Season','started_at', 'rideable_type', 'member_casual'])"
   ]
  },
  {
   "cell_type": "code",
   "execution_count": 150,
   "metadata": {},
   "outputs": [
    {
     "data": {
      "text/plain": [
       "Ride_Length        0\n",
       "Month              0\n",
       "Part_of_Weekend    0\n",
       "Hours              0\n",
       "Ride_Type          0\n",
       "classic_bike       0\n",
       "docked_bike        0\n",
       "electric_bike      0\n",
       "Cold               0\n",
       "Warm               0\n",
       "dtype: int64"
      ]
     },
     "execution_count": 150,
     "metadata": {},
     "output_type": "execute_result"
    }
   ],
   "source": [
    "#Fill relevant information for the missing values\n",
    "df_ML.fillna(\"NotatDock\", inplace=True)\n",
    "df_ML.isna().sum()"
   ]
  },
  {
   "cell_type": "code",
   "execution_count": 152,
   "metadata": {},
   "outputs": [],
   "source": [
    "y = df_ML['Ride_Type']\n",
    "X = df_ML.drop(['Ride_Type'], axis=1)\n",
    "X_train, X_test, y_train, y_test = train_test_split(X,y, test_size=0.2, random_state=30)"
   ]
  },
  {
   "cell_type": "code",
   "execution_count": 153,
   "metadata": {},
   "outputs": [
    {
     "data": {
      "text/plain": [
       "1    4736738\n",
       "0    3701298\n",
       "Name: Ride_Type, dtype: int64"
      ]
     },
     "execution_count": 153,
     "metadata": {},
     "output_type": "execute_result"
    }
   ],
   "source": [
    "#check training data \n",
    "y_train.value_counts()"
   ]
  },
  {
   "cell_type": "code",
   "execution_count": 154,
   "metadata": {},
   "outputs": [
    {
     "data": {
      "text/plain": [
       "Ride_Length  Month  Part_of_Weekend  Hours  classic_bike  docked_bike  electric_bike  Cold  Warm\n",
       "6            8      0                17     1             0            0              0     1       3299\n",
       "7            8      0                17     1             0            0              0     1       3195\n",
       "5            8      0                17     1             0            0              0     1       3168\n",
       "6            9      0                17     1             0            0              0     1       3096\n",
       "8            8      0                17     1             0            0              0     1       3041\n",
       "                                                                                                    ... \n",
       "47           2      1                10     0             0            1              1     0          1\n",
       "                    0                23     1             0            0              1     0          1\n",
       "                                     22     1             0            0              1     0          1\n",
       "126          9      1                14     0             0            1              0     1          1\n",
       "55944        6      1                2      0             1            0              0     1          1\n",
       "Length: 192407, dtype: int64"
      ]
     },
     "execution_count": 154,
     "metadata": {},
     "output_type": "execute_result"
    }
   ],
   "source": [
    "X_train.value_counts()"
   ]
  },
  {
   "cell_type": "code",
   "execution_count": 156,
   "metadata": {},
   "outputs": [],
   "source": [
    "clf = RandomForestClassifier(n_estimators = 100, random_state = 20)\n",
    "rf_train = clf.fit(X_train,y_train)"
   ]
  },
  {
   "cell_type": "code",
   "execution_count": 157,
   "metadata": {},
   "outputs": [],
   "source": [
    "y_pred = clf.predict(X_test)"
   ]
  },
  {
   "cell_type": "code",
   "execution_count": 158,
   "metadata": {},
   "outputs": [
    {
     "data": {
      "text/plain": [
       "array([[0.4795562 , 0.5204438 ],\n",
       "       [0.60430254, 0.39569746],\n",
       "       [0.48388385, 0.51611615],\n",
       "       [0.704748  , 0.295252  ],\n",
       "       [0.54043426, 0.45956574]])"
      ]
     },
     "execution_count": 158,
     "metadata": {},
     "output_type": "execute_result"
    }
   ],
   "source": [
    "clf.predict_proba(X)[0:5]"
   ]
  },
  {
   "cell_type": "code",
   "execution_count": 159,
   "metadata": {},
   "outputs": [
    {
     "name": "stdout",
     "output_type": "stream",
     "text": [
      "[('Ride_Length', 0.39154347872954026), ('Month', 0.053679617383315135), ('Part_of_Weekend', 0.07509425305963378), ('Hours', 0.11440092760657988), ('classic_bike', 0.050534737624370184), ('docked_bike', 0.209362178260185), ('electric_bike', 0.050399884633083446), ('Cold', 0.028255707833497245), ('Warm', 0.026729214869795202)]\n"
     ]
    }
   ],
   "source": [
    "importance = list(zip(X, clf.feature_importances_))\n",
    "importance"
   ]
  },
  {
   "cell_type": "code",
   "execution_count": 160,
   "metadata": {},
   "outputs": [
    {
     "name": "stdout",
     "output_type": "stream",
     "text": [
      "              precision    recall  f1-score   support\n",
      "\n",
      "           0       0.66      0.51      0.57    924897\n",
      "           1       0.67      0.80      0.73   1184612\n",
      "\n",
      "    accuracy                           0.67   2109509\n",
      "   macro avg       0.67      0.65      0.65   2109509\n",
      "weighted avg       0.67      0.67      0.66   2109509\n",
      "\n"
     ]
    }
   ],
   "source": [
    "print(classification_report(y_test, y_pred))"
   ]
  },
  {
   "cell_type": "code",
   "execution_count": 161,
   "metadata": {},
   "outputs": [
    {
     "data": {
      "text/plain": [
       "67.13405820975402"
      ]
     },
     "execution_count": 161,
     "metadata": {},
     "output_type": "execute_result"
    }
   ],
   "source": [
    "accuracy = (metrics.accuracy_score(y_test, y_pred)) * 100\n",
    "accuracy"
   ]
  },
  {
   "cell_type": "markdown",
   "metadata": {},
   "source": [
    "Random Forest Model 2: Seasonality is taken into consideration to figure out the relation in bikes given seasonality and ride length"
   ]
  },
  {
   "cell_type": "code",
   "execution_count": 162,
   "metadata": {},
   "outputs": [],
   "source": [
    "dfML_time_bike = df_ML[['Ride_Type','Ride_Length', 'Month', 'Part_of_Weekend', 'classic_bike','electric_bike','docked_bike']].copy()"
   ]
  },
  {
   "cell_type": "code",
   "execution_count": 163,
   "metadata": {},
   "outputs": [],
   "source": [
    "yt = dfML_time_bike['Ride_Type']\n",
    "Xt = dfML_time_bike.drop(['Ride_Type'], axis=1)\n",
    "Xt_train, Xt_test, yt_train, yt_test = train_test_split(Xt,yt, test_size=0.3, random_state=30)"
   ]
  },
  {
   "cell_type": "code",
   "execution_count": 164,
   "metadata": {},
   "outputs": [],
   "source": [
    "clft = RandomForestClassifier(n_estimators = 100, random_state = 20)\n",
    "rft_train = clft.fit(Xt_train,yt_train)"
   ]
  },
  {
   "cell_type": "code",
   "execution_count": 165,
   "metadata": {},
   "outputs": [],
   "source": [
    "yt_pred = clft.predict(Xt_test)"
   ]
  },
  {
   "cell_type": "code",
   "execution_count": 166,
   "metadata": {},
   "outputs": [
    {
     "data": {
      "text/plain": [
       "array([[0.52866453, 0.47133547],\n",
       "       [0.50422339, 0.49577661],\n",
       "       [0.47697651, 0.52302349],\n",
       "       [0.49850814, 0.50149186],\n",
       "       [0.49352996, 0.50647004]])"
      ]
     },
     "execution_count": 166,
     "metadata": {},
     "output_type": "execute_result"
    }
   ],
   "source": [
    "clft.predict_proba(Xt)[0:5]"
   ]
  },
  {
   "cell_type": "code",
   "execution_count": 167,
   "metadata": {},
   "outputs": [
    {
     "data": {
      "text/plain": [
       "[('Ride_Length', 0.4234856396202953),\n",
       " ('Month', 0.11646362692367655),\n",
       " ('Part_of_Weekend', 0.09601708847300512),\n",
       " ('classic_bike', 0.06321905399542105),\n",
       " ('electric_bike', 0.05716287816071255),\n",
       " ('docked_bike', 0.24365171282688944)]"
      ]
     },
     "execution_count": 167,
     "metadata": {},
     "output_type": "execute_result"
    }
   ],
   "source": [
    "importance = list(zip(Xt, clft.feature_importances_))\n",
    "importance"
   ]
  },
  {
   "cell_type": "code",
   "execution_count": 168,
   "metadata": {},
   "outputs": [
    {
     "name": "stdout",
     "output_type": "stream",
     "text": [
      "              precision    recall  f1-score   support\n",
      "\n",
      "           0       0.67      0.46      0.55   1388914\n",
      "           1       0.66      0.82      0.73   1775350\n",
      "\n",
      "    accuracy                           0.66   3164264\n",
      "   macro avg       0.67      0.64      0.64   3164264\n",
      "weighted avg       0.67      0.66      0.65   3164264\n",
      "\n"
     ]
    }
   ],
   "source": [
    "print(classification_report(yt_test, yt_pred))"
   ]
  },
  {
   "cell_type": "code",
   "execution_count": 169,
   "metadata": {},
   "outputs": [
    {
     "data": {
      "text/plain": [
       "66.4368080539424"
      ]
     },
     "execution_count": 169,
     "metadata": {},
     "output_type": "execute_result"
    }
   ],
   "source": [
    "acct = (metrics.accuracy_score(yt_test, yt_pred)) * 100\n",
    "acct"
   ]
  }
 ],
 "metadata": {
  "kernelspec": {
   "display_name": "Python 3.10.8 64-bit",
   "language": "python",
   "name": "python3"
  },
  "language_info": {
   "codemirror_mode": {
    "name": "ipython",
    "version": 3
   },
   "file_extension": ".py",
   "mimetype": "text/x-python",
   "name": "python",
   "nbconvert_exporter": "python",
   "pygments_lexer": "ipython3",
   "version": "3.10.8"
  },
  "orig_nbformat": 4,
  "vscode": {
   "interpreter": {
    "hash": "aee8b7b246df8f9039afb4144a1f6fd8d2ca17a180786b69acc140d282b71a49"
   }
  }
 },
 "nbformat": 4,
 "nbformat_minor": 2
}
