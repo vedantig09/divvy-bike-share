{
 "cells": [
  {
   "cell_type": "markdown",
   "metadata": {},
   "source": [
    "## Google App Store Reviews Scraping ##"
   ]
  },
  {
   "cell_type": "code",
   "execution_count": 15,
   "metadata": {},
   "outputs": [],
   "source": [
    "# !pip install google-play-scraper"
   ]
  },
  {
   "cell_type": "code",
   "execution_count": 16,
   "metadata": {},
   "outputs": [],
   "source": [
    "from google_play_scraper import app\n",
    "import pandas as pd\n",
    "import numpy as np\n",
    "from google_play_scraper import Sort, reviews_all"
   ]
  },
  {
   "cell_type": "code",
   "execution_count": 17,
   "metadata": {},
   "outputs": [],
   "source": [
    "# com.motivateco.chicagoapp\n",
    "\n",
    "us_reviews = reviews_all(\n",
    "    'com.motivateco.chicagoapp',\n",
    "    sleep_milliseconds=0, # defaults to 0\n",
    "    lang='en', # defaults to 'en'\n",
    "    country='us', # defaults to 'us'\n",
    "    sort=Sort.NEWEST, # defaults to Sort.MOST_RELEVANT\n",
    ")"
   ]
  },
  {
   "cell_type": "code",
   "execution_count": 18,
   "metadata": {},
   "outputs": [
    {
     "data": {
      "text/html": [
       "<div>\n",
       "<style scoped>\n",
       "    .dataframe tbody tr th:only-of-type {\n",
       "        vertical-align: middle;\n",
       "    }\n",
       "\n",
       "    .dataframe tbody tr th {\n",
       "        vertical-align: top;\n",
       "    }\n",
       "\n",
       "    .dataframe thead th {\n",
       "        text-align: right;\n",
       "    }\n",
       "</style>\n",
       "<table border=\"1\" class=\"dataframe\">\n",
       "  <thead>\n",
       "    <tr style=\"text-align: right;\">\n",
       "      <th></th>\n",
       "      <th>reviewId</th>\n",
       "      <th>userName</th>\n",
       "      <th>userImage</th>\n",
       "      <th>content</th>\n",
       "      <th>score</th>\n",
       "      <th>thumbsUpCount</th>\n",
       "      <th>reviewCreatedVersion</th>\n",
       "      <th>at</th>\n",
       "      <th>replyContent</th>\n",
       "      <th>repliedAt</th>\n",
       "    </tr>\n",
       "  </thead>\n",
       "  <tbody>\n",
       "    <tr>\n",
       "      <th>0</th>\n",
       "      <td>ffdc325a-7a79-4808-a437-e8da69ac85e4</td>\n",
       "      <td>jonathan hopkins</td>\n",
       "      <td>https://play-lh.googleusercontent.com/a/ALm5wu...</td>\n",
       "      <td>Lots of fun</td>\n",
       "      <td>5</td>\n",
       "      <td>0</td>\n",
       "      <td>14.53.31.1666707371</td>\n",
       "      <td>2022-10-29 22:04:31</td>\n",
       "      <td>None</td>\n",
       "      <td>NaT</td>\n",
       "    </tr>\n",
       "    <tr>\n",
       "      <th>1</th>\n",
       "      <td>7ba60870-f356-4237-bed7-3b0966308e75</td>\n",
       "      <td>Andrew Popelka</td>\n",
       "      <td>https://play-lh.googleusercontent.com/a/ALm5wu...</td>\n",
       "      <td>Its good, they need to make the bike angel stu...</td>\n",
       "      <td>5</td>\n",
       "      <td>0</td>\n",
       "      <td>14.52.3.1665556424</td>\n",
       "      <td>2022-10-23 19:19:17</td>\n",
       "      <td>None</td>\n",
       "      <td>NaT</td>\n",
       "    </tr>\n",
       "    <tr>\n",
       "      <th>2</th>\n",
       "      <td>6583aef5-d4a7-4b02-a387-5f7442aaec60</td>\n",
       "      <td>Willie Floyd</td>\n",
       "      <td>https://play-lh.googleusercontent.com/a-/ACNPE...</td>\n",
       "      <td>Grate bus tracker</td>\n",
       "      <td>5</td>\n",
       "      <td>0</td>\n",
       "      <td>14.52.3.1665556424</td>\n",
       "      <td>2022-10-22 14:54:07</td>\n",
       "      <td>None</td>\n",
       "      <td>NaT</td>\n",
       "    </tr>\n",
       "    <tr>\n",
       "      <th>3</th>\n",
       "      <td>cfccbea3-797a-4335-93df-ec28529b46a0</td>\n",
       "      <td>Andrew Berlowitz</td>\n",
       "      <td>https://play-lh.googleusercontent.com/a-/ACNPE...</td>\n",
       "      <td>Sha oong aooh</td>\n",
       "      <td>3</td>\n",
       "      <td>0</td>\n",
       "      <td>14.52.3.1665556424</td>\n",
       "      <td>2022-10-22 13:44:39</td>\n",
       "      <td>None</td>\n",
       "      <td>NaT</td>\n",
       "    </tr>\n",
       "    <tr>\n",
       "      <th>4</th>\n",
       "      <td>d9b43933-6eba-4987-bc16-2afa18b5ffb0</td>\n",
       "      <td>David Slay</td>\n",
       "      <td>https://play-lh.googleusercontent.com/a-/ACNPE...</td>\n",
       "      <td>Fun once you find a working scooter. Had to go...</td>\n",
       "      <td>3</td>\n",
       "      <td>0</td>\n",
       "      <td>14.51.3.1664950977</td>\n",
       "      <td>2022-10-18 14:57:09</td>\n",
       "      <td>None</td>\n",
       "      <td>NaT</td>\n",
       "    </tr>\n",
       "  </tbody>\n",
       "</table>\n",
       "</div>"
      ],
      "text/plain": [
       "                               reviewId          userName  \\\n",
       "0  ffdc325a-7a79-4808-a437-e8da69ac85e4  jonathan hopkins   \n",
       "1  7ba60870-f356-4237-bed7-3b0966308e75    Andrew Popelka   \n",
       "2  6583aef5-d4a7-4b02-a387-5f7442aaec60      Willie Floyd   \n",
       "3  cfccbea3-797a-4335-93df-ec28529b46a0  Andrew Berlowitz   \n",
       "4  d9b43933-6eba-4987-bc16-2afa18b5ffb0        David Slay   \n",
       "\n",
       "                                           userImage  \\\n",
       "0  https://play-lh.googleusercontent.com/a/ALm5wu...   \n",
       "1  https://play-lh.googleusercontent.com/a/ALm5wu...   \n",
       "2  https://play-lh.googleusercontent.com/a-/ACNPE...   \n",
       "3  https://play-lh.googleusercontent.com/a-/ACNPE...   \n",
       "4  https://play-lh.googleusercontent.com/a-/ACNPE...   \n",
       "\n",
       "                                             content  score  thumbsUpCount  \\\n",
       "0                                        Lots of fun      5              0   \n",
       "1  Its good, they need to make the bike angel stu...      5              0   \n",
       "2                                  Grate bus tracker      5              0   \n",
       "3                                      Sha oong aooh      3              0   \n",
       "4  Fun once you find a working scooter. Had to go...      3              0   \n",
       "\n",
       "  reviewCreatedVersion                  at replyContent repliedAt  \n",
       "0  14.53.31.1666707371 2022-10-29 22:04:31         None       NaT  \n",
       "1   14.52.3.1665556424 2022-10-23 19:19:17         None       NaT  \n",
       "2   14.52.3.1665556424 2022-10-22 14:54:07         None       NaT  \n",
       "3   14.52.3.1665556424 2022-10-22 13:44:39         None       NaT  \n",
       "4   14.51.3.1664950977 2022-10-18 14:57:09         None       NaT  "
      ]
     },
     "execution_count": 18,
     "metadata": {},
     "output_type": "execute_result"
    }
   ],
   "source": [
    "df_busu = pd.DataFrame(np.array(us_reviews),columns=['review'])\n",
    "df_busu = df_busu.join(pd.DataFrame(df_busu.pop('review').tolist()))\n",
    "df_busu.head()"
   ]
  },
  {
   "cell_type": "code",
   "execution_count": 19,
   "metadata": {},
   "outputs": [],
   "source": [
    "df_busu.to_csv('GooglePlayStoreDivvyReviews.csv')"
   ]
  },
  {
   "cell_type": "markdown",
   "metadata": {},
   "source": [
    "## iOS App Store Scraping ##"
   ]
  },
  {
   "cell_type": "code",
   "execution_count": null,
   "metadata": {},
   "outputs": [],
   "source": [
    "# !pip install app_store_scraper"
   ]
  },
  {
   "cell_type": "code",
   "execution_count": null,
   "metadata": {},
   "outputs": [],
   "source": [
    "# divvy-bikes/id1369992600\n",
    "import pandas as pd\n",
    "import numpy as np\n",
    "import json\n",
    "\n",
    "from app_store_scraper import AppStore\n",
    "slack = AppStore(country='us', app_name='divvy-bikes', app_id = '1369992600')\n",
    "\n",
    "slack.review(how_many=2000)"
   ]
  },
  {
   "cell_type": "code",
   "execution_count": null,
   "metadata": {},
   "outputs": [],
   "source": [
    "slack.reviews"
   ]
  },
  {
   "cell_type": "code",
   "execution_count": null,
   "metadata": {},
   "outputs": [],
   "source": [
    "slackdf = pd.DataFrame(np.array(slack.reviews),columns=['review'])\n",
    "slackdf2 = slackdf.join(pd.DataFrame(slackdf.pop('review').tolist()))\n",
    "slackdf2.head()"
   ]
  },
  {
   "cell_type": "code",
   "execution_count": null,
   "metadata": {},
   "outputs": [],
   "source": [
    "slackdf2.to_csv('iOSAppStoreDivvyReviews.csv')"
   ]
  }
 ],
 "metadata": {
  "kernelspec": {
   "display_name": "Python 3.10.8 64-bit",
   "language": "python",
   "name": "python3"
  },
  "language_info": {
   "codemirror_mode": {
    "name": "ipython",
    "version": 3
   },
   "file_extension": ".py",
   "mimetype": "text/x-python",
   "name": "python",
   "nbconvert_exporter": "python",
   "pygments_lexer": "ipython3",
   "version": "3.10.8"
  },
  "orig_nbformat": 4,
  "vscode": {
   "interpreter": {
    "hash": "aee8b7b246df8f9039afb4144a1f6fd8d2ca17a180786b69acc140d282b71a49"
   }
  }
 },
 "nbformat": 4,
 "nbformat_minor": 2
}
